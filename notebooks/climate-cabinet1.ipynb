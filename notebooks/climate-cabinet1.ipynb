{
 "cells": [
  {
   "attachments": {},
   "cell_type": "markdown",
   "metadata": {},
   "source": [
    "### Goal of this notebook: To replicate the Map produced by the Climate Cabinet (Overlay the Justice40 comunites geographics onto the Utility Territories)\n",
    "#### 1. Load both the CSV datasets of Utility Territories and Justice40 tract level data.\n",
    "#### 2. Check if they can be merged using the native pandas, by identifying common keys if any\n",
    "#### 3. If that cannot be done, proceed with the shape files from the web.\n",
    "#### 4. Overlay the Justice40 data from the shapefile onto the Utility Territories\n",
    "#### 5. Save the Overlay as a GeoJSON file and make a plot of the dataframe"
   ]
  },
  {
   "cell_type": "code",
   "execution_count": null,
   "metadata": {},
   "outputs": [],
   "source": [
    "import pandas as pd\n",
    "pd.set_option('display.max_columns', None)"
   ]
  },
  {
   "cell_type": "code",
   "execution_count": null,
   "metadata": {},
   "outputs": [],
   "source": [
    "wd = 'C:\\\\Users\\\\saikr\\\\Desktop\\\\CDF\\\\Climate Cabinet\\\\'"
   ]
  },
  {
   "cell_type": "code",
   "execution_count": null,
   "metadata": {},
   "outputs": [],
   "source": [
    "util_df = pd.read_csv(wd+ 'utility_territories.csv')\n",
    "util_df.shape"
   ]
  },
  {
   "cell_type": "code",
   "execution_count": null,
   "metadata": {},
   "outputs": [],
   "source": [
    "util_df.info()\n",
    "#Shows it has no nulls, but needs to be checked if they are encoded as something else"
   ]
  },
  {
   "cell_type": "code",
   "execution_count": null,
   "metadata": {},
   "outputs": [],
   "source": [
    "util_df.head(3)"
   ]
  },
  {
   "attachments": {},
   "cell_type": "markdown",
   "metadata": {},
   "source": [
    "#### The utility territories data do not have any tract information on it, but just the City, State, etc as the geographical data. All the gro columns have a lot of nulls in them coded as ``\"NOT AVAILABLE\"``. ID column - Is it the tract ID or a different ID?"
   ]
  },
  {
   "cell_type": "code",
   "execution_count": null,
   "metadata": {},
   "outputs": [],
   "source": [
    "util_df[util_df['CITY']=='NOT AVAILABLE'].shape"
   ]
  },
  {
   "cell_type": "code",
   "execution_count": null,
   "metadata": {},
   "outputs": [],
   "source": []
  },
  {
   "cell_type": "code",
   "execution_count": null,
   "metadata": {},
   "outputs": [],
   "source": [
    "justice_df = pd.read_csv(wd+'justice40.csv', low_memory=False)"
   ]
  },
  {
   "cell_type": "code",
   "execution_count": null,
   "metadata": {},
   "outputs": [],
   "source": [
    "justice_df.shape"
   ]
  },
  {
   "cell_type": "code",
   "execution_count": null,
   "metadata": {},
   "outputs": [],
   "source": [
    "justice_df.head(2)"
   ]
  },
  {
   "attachments": {},
   "cell_type": "markdown",
   "metadata": {},
   "source": [
    "#### This file has the tract and county details but still has no matching keys with the Utility Territories data. The total tract level population is the main feature that should be labelled in the plot"
   ]
  },
  {
   "cell_type": "code",
   "execution_count": null,
   "metadata": {},
   "outputs": [],
   "source": []
  },
  {
   "cell_type": "code",
   "execution_count": null,
   "metadata": {},
   "outputs": [],
   "source": [
    "## Read the shape files since both csv's donot have any matching keys that can link the datasets together"
   ]
  },
  {
   "cell_type": "code",
   "execution_count": null,
   "metadata": {},
   "outputs": [],
   "source": [
    "import geopandas as gpd\n",
    "import matplotlib.pyplot as plt\n",
    "import seaborn as sns\n",
    "import plotly.express as px"
   ]
  },
  {
   "cell_type": "code",
   "execution_count": null,
   "metadata": {},
   "outputs": [],
   "source": [
    "%%time\n",
    "justice40 = gpd.read_file(wd +'justice40 shapefile\\\\usa\\\\usa.shp')\n",
    "utility_territories = gpd.read_file(wd + 'utility shape file\\\\Electric_Retail_Service_Territories.shp')"
   ]
  },
  {
   "attachments": {},
   "cell_type": "markdown",
   "metadata": {},
   "source": [
    "#### Starting with cleaning the Justice40 Data"
   ]
  },
  {
   "cell_type": "code",
   "execution_count": null,
   "metadata": {},
   "outputs": [],
   "source": [
    "%%time\n",
    "## Make sure both datasets have same coordinate reference system\n",
    "justice40 = justice40.to_crs(utility_territories.crs)"
   ]
  },
  {
   "attachments": {},
   "cell_type": "markdown",
   "metadata": {},
   "source": [
    "#### Select only the necessary columns from the Justice40 data (Refer to the columns csv)"
   ]
  },
  {
   "cell_type": "code",
   "execution_count": null,
   "metadata": {},
   "outputs": [],
   "source": [
    "justice40.head(2)"
   ]
  },
  {
   "cell_type": "code",
   "execution_count": null,
   "metadata": {},
   "outputs": [],
   "source": [
    "cols_to_keep = ['GEOID10','SF', 'CF','TPF','UF_PFS','SN_C','SN_T','HRS_ET','LHE','FPL200S','UI_EXP','THRHLD','geometry']\n",
    "justice40 = justice40[cols_to_keep]\n",
    "justice40.shape"
   ]
  },
  {
   "cell_type": "code",
   "execution_count": null,
   "metadata": {},
   "outputs": [],
   "source": [
    "justice40.columns = ['GeoID','State','County','Tot_Pop','Unemp_Per','Disadv?','Disad_Tri?','Underinves','Low_HS_Edu','Low_Income','UI_EXP','THRHLD','geometry']\n",
    "justice40.head(2)"
   ]
  },
  {
   "cell_type": "code",
   "execution_count": null,
   "metadata": {},
   "outputs": [],
   "source": [
    "%%time\n",
    "#save the cleaned justice40 dataset\n",
    "justice_clean_path = wd+'justice40_clean.shp'\n",
    "\n",
    "# Export the GeoDataFrame as a shapefile\n",
    "justice40.to_file(justice_clean_path, driver='ESRI Shapefile')"
   ]
  },
  {
   "cell_type": "code",
   "execution_count": null,
   "metadata": {},
   "outputs": [],
   "source": [
    "%%time\n",
    "justice_clean = gpd.read_file(justice_clean_path)\n",
    "justice_clean.head(2)"
   ]
  },
  {
   "cell_type": "code",
   "execution_count": null,
   "metadata": {},
   "outputs": [],
   "source": [
    "#check for duplicates\n",
    "justice_clean.duplicated('GeoID').sum()"
   ]
  },
  {
   "attachments": {},
   "cell_type": "markdown",
   "metadata": {},
   "source": [
    "#### EDA for the truncated version of Justice40 data"
   ]
  },
  {
   "cell_type": "code",
   "execution_count": null,
   "metadata": {},
   "outputs": [],
   "source": [
    "plt.figure(figsize = (8,5))\n",
    "justice_nulls = pd.DataFrame(justice_clean.isnull().sum()/justice_clean.shape[0] * 100, columns = ['Nulls%'])\n",
    "sns.barplot(x = justice_nulls.index, y = justice_nulls['Nulls%'])\n",
    "plt.xticks(rotation = 90, fontsize = 8)\n",
    "plt.title('Nulls Percentage in the Justice40 Data')\n",
    "plt.show()"
   ]
  },
  {
   "cell_type": "code",
   "execution_count": null,
   "metadata": {},
   "outputs": [],
   "source": [
    "justice_nulls.sort_values(by = 'Nulls%', ascending = False)\n",
    "## The nulls are in the Underinvested and Disadvantaged_Tribal columns, which should not used as a filter or condition later on. Can be dropped if needed"
   ]
  },
  {
   "cell_type": "code",
   "execution_count": null,
   "metadata": {},
   "outputs": [],
   "source": [
    "plt.figure(figsize=(10,5))\n",
    "sns.heatmap(justice_clean.isnull(), yticklabels=False)\n",
    "plt.title('Null Values Heat Map for the Justice40 Data')\n",
    "plt.show()"
   ]
  },
  {
   "cell_type": "code",
   "execution_count": null,
   "metadata": {},
   "outputs": [],
   "source": [
    "uni_tot_df_just = pd.DataFrame(columns = ['Column', 'Total', 'Unique', 'All Unique' ,'Missing'])\n",
    "j = 0\n",
    "for i in justice_clean.columns:\n",
    "    tot = justice_clean[justice_clean[i].notnull()].shape[0]\n",
    "    uni = justice_clean[i].nunique()\n",
    "    mis = (1 - (tot / justice_clean.shape[0]) ) * 100\n",
    "    au = tot == uni\n",
    "    uni_tot_df_just.loc[j] = [i, tot, uni,au, mis]\n",
    "    j = j+1\n",
    "    "
   ]
  },
  {
   "cell_type": "code",
   "execution_count": null,
   "metadata": {},
   "outputs": [],
   "source": [
    "### Identify the Total Count, Uniques Count, Missing Percentage in the Justice40 Data\n",
    "uni_tot_df_just = uni_tot_df_just.transpose()\n",
    "uni_tot_df_just.columns = uni_tot_df_just.iloc[0]\n",
    "uni_tot_df_just = uni_tot_df_just.iloc[1:]\n",
    "uni_tot_df_just"
   ]
  },
  {
   "cell_type": "code",
   "execution_count": null,
   "metadata": {},
   "outputs": [],
   "source": [
    "justice_clean['Disadv?'].value_counts()"
   ]
  },
  {
   "cell_type": "code",
   "execution_count": null,
   "metadata": {},
   "outputs": [],
   "source": [
    "sns.countplot(x =justice_clean['Disadv?'])\n",
    "plt.title('Disadvantaged Communities in the Justice40 Data')\n",
    "plt.xlabel('Disadvantaged?')"
   ]
  },
  {
   "cell_type": "code",
   "execution_count": null,
   "metadata": {},
   "outputs": [],
   "source": [
    "# Group by \"State\" and calculate the sum of \"Disadv?\" column\n",
    "state_disadv_sum = justice_clean.groupby('State')['Disadv?'].sum()\n",
    "\n",
    "plot_data = pd.DataFrame({'State': state_disadv_sum.index, 'Disadv_Sum': state_disadv_sum.values})\n",
    "\n",
    "plt.figure(figsize=(10, 6))\n",
    "sns.barplot(y='Disadv_Sum', x='State', data=plot_data)\n",
    "plt.title('State-Level Disadvantage Communities')\n",
    "plt.ylabel('Population')\n",
    "plt.xlabel('State')\n",
    "plt.xticks(rotation=90)\n",
    "plt.show()"
   ]
  },
  {
   "attachments": {},
   "cell_type": "markdown",
   "metadata": {},
   "source": [
    "#### Moving onto Service Utility Territories data"
   ]
  },
  {
   "cell_type": "code",
   "execution_count": null,
   "metadata": {},
   "outputs": [],
   "source": [
    "utility_territories.columns"
   ]
  },
  {
   "cell_type": "code",
   "execution_count": null,
   "metadata": {},
   "outputs": [],
   "source": [
    "util_cols_to_remove = ['SOURCE','SOURCEDATE','VAL_METHOD','VAL_DATE']\n",
    "utility_territories.drop(util_cols_to_remove, axis = 1, inplace = True)\n",
    "utility_territories.shape"
   ]
  },
  {
   "cell_type": "code",
   "execution_count": null,
   "metadata": {},
   "outputs": [],
   "source": [
    "%%time\n",
    "#save the cleaned dataset\n",
    "util_clean_path = wd+'util_clean.shp'\n",
    "\n",
    "# Export the GeoDataFrame as a shapefile\n",
    "utility_territories.to_file(util_clean_path, driver='ESRI Shapefile')"
   ]
  },
  {
   "cell_type": "code",
   "execution_count": null,
   "metadata": {},
   "outputs": [],
   "source": [
    "utility_territories.head(2)"
   ]
  },
  {
   "attachments": {},
   "cell_type": "markdown",
   "metadata": {},
   "source": [
    "#### EDA for the Utility Territories data"
   ]
  },
  {
   "cell_type": "code",
   "execution_count": null,
   "metadata": {},
   "outputs": [],
   "source": [
    "plt.figure(figsize = (8,5))\n",
    "util_nulls = pd.DataFrame(utility_territories.isnull().sum()/utility_territories.shape[0] * 100, columns = ['Nulls%'])\n",
    "sns.barplot(x = util_nulls.index, y = util_nulls['Nulls%'])\n",
    "plt.xticks(rotation = 90, fontsize = 8)\n",
    "plt.title('Nulls Percentage in the Utility Territories Data')\n",
    "plt.show()"
   ]
  },
  {
   "cell_type": "code",
   "execution_count": null,
   "metadata": {},
   "outputs": [],
   "source": [
    "uni_tot_df_util = pd.DataFrame(columns = ['Column', 'Total', 'Unique', 'All Unique' ,'Missing'])\n",
    "j = 0\n",
    "for i in utility_territories.columns:\n",
    "    tot = utility_territories[utility_territories[i].notnull()].shape[0]\n",
    "    uni = utility_territories[i].nunique()\n",
    "    mis = (1 - (tot / utility_territories.shape[0]) ) * 100\n",
    "    au = tot == uni\n",
    "    uni_tot_df_util.loc[j] = [i, tot, uni,au, mis]\n",
    "    j = j+1\n",
    "    "
   ]
  },
  {
   "cell_type": "code",
   "execution_count": null,
   "metadata": {},
   "outputs": [],
   "source": [
    "### Identify the Total Count, Uniques Count, Missing Percentage in the Utility Territories Data\n",
    "uni_tot_df_util = uni_tot_df_util.transpose()\n",
    "uni_tot_df_util.columns = uni_tot_df_util.iloc[0]\n",
    "uni_tot_df_util = uni_tot_df_util.iloc[1:]\n",
    "uni_tot_df_util"
   ]
  },
  {
   "cell_type": "code",
   "execution_count": null,
   "metadata": {},
   "outputs": [],
   "source": [
    "# Group by \"STATE\" and calculate the number of Utilities per state\n",
    "state_util_count = utility_territories.groupby('STATE')['OBJECTID'].count()\n",
    "\n",
    "# Create a new DataFrame with state names and sums\n",
    "plot_data = pd.DataFrame({'State': state_util_count.index, 'Count': state_util_count.values})\n",
    "\n",
    "# Plot the heatmap\n",
    "plt.figure(figsize=(10, 6))\n",
    "sns.barplot(y='Count', x='State', data=plot_data)\n",
    "plt.title('State-Level Utility Providers')\n",
    "plt.ylabel('Count')\n",
    "plt.xlabel('State')\n",
    "plt.xticks(rotation=90)\n",
    "plt.show()"
   ]
  },
  {
   "cell_type": "code",
   "execution_count": null,
   "metadata": {},
   "outputs": [],
   "source": []
  },
  {
   "cell_type": "code",
   "execution_count": null,
   "metadata": {},
   "outputs": [],
   "source": [
    "util_clean = gpd.read_file(util_clean_path)"
   ]
  },
  {
   "cell_type": "code",
   "execution_count": null,
   "metadata": {},
   "outputs": [],
   "source": [
    "justice_clean.head(2)"
   ]
  },
  {
   "cell_type": "code",
   "execution_count": null,
   "metadata": {},
   "outputs": [],
   "source": [
    "util_clean.head(2)"
   ]
  },
  {
   "cell_type": "code",
   "execution_count": null,
   "metadata": {},
   "outputs": [],
   "source": [
    "util_clean.plot(figsize=(10, 10), color='lightgray', edgecolor='black')\n",
    "justice_clean.plot(ax=plt.gca(), color='blue', alpha=0.5)\n",
    "plt.title('Utility Territories with Justice40 Communities Overlay')\n",
    "plt.xlabel('Longitude')\n",
    "plt.ylabel('Latitude')\n",
    "plt.legend(['Utility Territories', 'Justice40 Communities'])\n",
    "plt.show()\n"
   ]
  },
  {
   "cell_type": "code",
   "execution_count": null,
   "metadata": {},
   "outputs": [],
   "source": [
    "# import folium\n",
    "# import geopandas as gpd\n",
    "\n",
    "# # Reproject utility_territories to a projected CRS\n",
    "# util_clean = util_clean.to_crs('EPSG:3857')\n",
    "\n",
    "# # Filter out rows with invalid geometries in justice_clean\n",
    "# valid_justice = justice_clean[justice_clean.geometry.is_valid]\n",
    "\n",
    "# # Create a folium map centered on the mean coordinates of the utility territories\n",
    "# map_center = util_clean.geometry.centroid.unary_union.centroid.coords[0]\n",
    "# m = folium.Map(location=[map_center[1], map_center[0]], zoom_start=10)\n",
    "\n",
    "# # Add the utility territories as polygons to the map\n",
    "# folium.GeoJson(util_clean, name='Utility Territories', style_function=lambda x: {'fillColor': 'lightgray', 'color': 'black'}).add_to(m)\n",
    "\n",
    "# # Add the justice40 communities as markers to the map\n",
    "# for idx, row in valid_justice.iterrows():\n",
    "#     folium.CircleMarker(\n",
    "#         location=[row.geometry.centroid.y, row.geometry.centroid.x],\n",
    "#         radius=5,\n",
    "#         color='blue',\n",
    "#         fill=True,\n",
    "#         fill_color='blue',\n",
    "#         fill_opacity=0.5,\n",
    "#         tooltip=f\"Community: {row['GeoID']}\"\n",
    "#     ).add_to(m)\n",
    "\n",
    "# # Add layer control to toggle between utility territories and justice40 communities\n",
    "# folium.LayerControl().add_to(m)\n",
    "\n",
    "# # Display the map\n",
    "# m\n"
   ]
  },
  {
   "cell_type": "code",
   "execution_count": null,
   "metadata": {},
   "outputs": [],
   "source": []
  }
 ],
 "metadata": {
  "kernelspec": {
   "display_name": "Python 3 (ipykernel)",
   "language": "python",
   "name": "python3"
  },
  "language_info": {
   "codemirror_mode": {
    "name": "ipython",
    "version": 3
   },
   "file_extension": ".py",
   "mimetype": "text/x-python",
   "name": "python",
   "nbconvert_exporter": "python",
   "pygments_lexer": "ipython3",
   "version": "3.10.9"
  }
 },
 "nbformat": 4,
 "nbformat_minor": 2
}
