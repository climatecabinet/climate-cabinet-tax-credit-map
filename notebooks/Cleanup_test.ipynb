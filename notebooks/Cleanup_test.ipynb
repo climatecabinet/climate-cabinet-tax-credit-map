{
 "cells": [
  {
   "cell_type": "code",
   "execution_count": 1,
   "metadata": {},
   "outputs": [],
   "source": [
    "#Restart kernel if rerunning this cell\n",
    "import os \n",
    "wd = os.path.dirname(os.getcwd()).replace('\\\\', '/')\n",
    "os.chdir(wd)\n",
    "\n",
    "import pandas as pd\n",
    "import geopandas as gpd\n",
    "import scripts.preprocess_helper as ph\n",
    "import scripts.cleanup_helper as ch\n",
    "import omegaconf\n",
    "import warnings\n",
    "\n",
    "warnings.filterwarnings('ignore')\n",
    "pd.set_option('display.max_columns', None)"
   ]
  },
  {
   "cell_type": "code",
   "execution_count": 2,
   "metadata": {},
   "outputs": [],
   "source": [
    "yaml_path = os.path.join(wd, 'conf', 'config.yaml')\n",
    "cfg = omegaconf.OmegaConf.load(yaml_path)\n",
    "paths = cfg.paths\n",
    "consts = cfg.constants"
   ]
  },
  {
   "cell_type": "code",
   "execution_count": null,
   "metadata": {},
   "outputs": [],
   "source": [
    "%%time\n",
    "# Load the raw data\n",
    "utils_raw = ph.load_data(paths.utilities.util_shape_file_path, 'shp')\n",
    "j40_raw = ph.load_data(paths.j40.j40_shp_path, 'shp')\n",
    "coal_raw = ph.load_data(paths.energy.coal_shp_path, 'shp')\n",
    "ffe_raw = ph.load_data(paths.energy.ffe_shp_path, 'shp')\n",
    "states_fips = ph.load_data(paths.boundaries.state_fips_path, 'csv')\n",
    "ct_raw = ph.load_data(paths.boundaries.ct_path, 'shp')\n",
    "st_raw = ph.load_data(paths.boundaries.st_path, 'shp')"
   ]
  },
  {
   "cell_type": "code",
   "execution_count": null,
   "metadata": {},
   "outputs": [],
   "source": [
    "%%time\n",
    "#Data Cleaning using the helper files\n",
    "util_clean, rural_coops, municipal_utils = ch.coops_utils_cleanup(util_shp = utils_raw, state_csv_df=states_fips, consts = consts.utilities)\n",
    "j40_clean = ch.j40_cleanup(j40_shp = j40_raw.copy(), consts = consts.j40)\n",
    "coal_clean, ffe_clean = ch.energy_cleanup(coal_shp = coal_raw.copy(), ffe_shp = ffe_raw.copy(), consts = consts.energy)\n",
    "lic_clean = ch.low_inc_cleanup(pov_csv_path = paths.low_income.pov_dir, li_tract_csv_path= paths.low_income.tract_inc_dir, \\\n",
    "    li_st_csv_path=paths.low_income.st_inc_dir, li_msa_csv_path= paths.low_income.msa_inc_dir, \\\n",
    "        tracts_shp_path= paths.low_income.tract_shp_path ,msa_shp_path = paths.low_income.msa_shape_path , consts= consts.low_income)\n",
    "county_df, state_df = ch.cty_st_borders_cleanup(county_df = ct_raw.copy(), st_fips_csv= states_fips, st_df = st_raw.copy(),\\\n",
    "     consts = consts.ct_st_borders)"
   ]
  },
  {
   "cell_type": "code",
   "execution_count": null,
   "metadata": {},
   "outputs": [],
   "source": []
  }
 ],
 "metadata": {
  "kernelspec": {
   "display_name": "base",
   "language": "python",
   "name": "python3"
  },
  "language_info": {
   "codemirror_mode": {
    "name": "ipython",
    "version": 3
   },
   "file_extension": ".py",
   "mimetype": "text/x-python",
   "name": "python",
   "nbconvert_exporter": "python",
   "pygments_lexer": "ipython3",
   "version": "3.10.9"
  },
  "orig_nbformat": 4
 },
 "nbformat": 4,
 "nbformat_minor": 2
}
