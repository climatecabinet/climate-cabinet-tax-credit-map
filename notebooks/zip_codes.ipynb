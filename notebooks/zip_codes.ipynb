{
 "cells": [
  {
   "cell_type": "markdown",
   "metadata": {},
   "source": [
    "# Zip Codes\n",
    "\n",
    "Exploratory data analysis of the raw TIGER/Line Shapefile for zip codes."
   ]
  },
  {
   "cell_type": "markdown",
   "metadata": {},
   "source": [
    "#### Summary\n",
    "\n",
    "The dataset contains 33,791 records. Apart from the geometry column, relevant fields include the zip code tabulation area (ZCTA) number (`ZCTA5CE20` or `GEOID20`), which represents a valid USPS ZIP Code as of January, 1, 2020. There are 57 ZCTAs in the District of Columbia and 148 in the U.S. territories. The dataset has a coordinate reference system (CRS) of EPSG:4269, which is standard for federal agencies.\n",
    "\n",
    "It is important to note that ZIP Codes differ from ZCTAs, as [documented](https://www.census.gov/programs-surveys/geography/guidance/geo-areas/zctas.html) by the U.S. Census Bureau:\n",
    "\n",
    ">First introduced in 1963, ZIP Code is a trademark of the USPS created to coordinate mail handling and delivery. The USPS assigns ZIP Code ranges to regional post offices, which in turn assign ZIP Codes to delivery routes. Each delivery route is composed of street networks, and/or individual units with high mail volumes, such as high-rise buildings or individual business locations. Within the Census Bureau’s MAF/TIGER System, ZIP Codes are stored as one component of discrete addresses tied to delivery points, including specific housing unit locations. The result is a point-based dataset unsuitable for mapping and many analysis applications.\n",
    "\n",
    ">ZCTAs are generalized areal representations of the geographic extent and distribution of the point-based ZIP Codes built using 2020 Census tabulation blocks. The Census Bureau is restricted by Title 13 from releasing individual housing unit addresses or location information to the public, so point-based ZIP Code data are unsuitable for distribution and publication. However, by aggregating the points and extrapolating them to a polygonal-based unit (census tabulation blocks), disclosure concerns can be addressed and “geographic subtraction*” is prevented.\n",
    "\n"
   ]
  },
  {
   "cell_type": "markdown",
   "metadata": {},
   "source": [
    "### Exploration"
   ]
  },
  {
   "cell_type": "code",
   "execution_count": 1,
   "metadata": {},
   "outputs": [],
   "source": [
    "import geopandas as gpd"
   ]
  },
  {
   "cell_type": "code",
   "execution_count": 2,
   "metadata": {},
   "outputs": [
    {
     "name": "stdout",
     "output_type": "stream",
     "text": [
      "<class 'geopandas.geodataframe.GeoDataFrame'>\n",
      "RangeIndex: 33791 entries, 0 to 33790\n",
      "Data columns (total 10 columns):\n",
      " #   Column      Non-Null Count  Dtype   \n",
      "---  ------      --------------  -----   \n",
      " 0   ZCTA5CE20   33791 non-null  object  \n",
      " 1   GEOID20     33791 non-null  object  \n",
      " 2   CLASSFP20   33791 non-null  object  \n",
      " 3   MTFCC20     33791 non-null  object  \n",
      " 4   FUNCSTAT20  33791 non-null  object  \n",
      " 5   ALAND20     33791 non-null  int64   \n",
      " 6   AWATER20    33791 non-null  int64   \n",
      " 7   INTPTLAT20  33791 non-null  object  \n",
      " 8   INTPTLON20  33791 non-null  object  \n",
      " 9   geometry    33791 non-null  geometry\n",
      "dtypes: geometry(1), int64(2), object(7)\n",
      "memory usage: 2.6+ MB\n"
     ]
    }
   ],
   "source": [
    "gdf = gpd.read_file(\"../data/raw/census/zip_codes/tl_2020_us_zcta520.zip\")\n",
    "gdf.info()"
   ]
  },
  {
   "cell_type": "code",
   "execution_count": 3,
   "metadata": {},
   "outputs": [
    {
     "data": {
      "text/html": [
       "<div>\n",
       "<style scoped>\n",
       "    .dataframe tbody tr th:only-of-type {\n",
       "        vertical-align: middle;\n",
       "    }\n",
       "\n",
       "    .dataframe tbody tr th {\n",
       "        vertical-align: top;\n",
       "    }\n",
       "\n",
       "    .dataframe thead th {\n",
       "        text-align: right;\n",
       "    }\n",
       "</style>\n",
       "<table border=\"1\" class=\"dataframe\">\n",
       "  <thead>\n",
       "    <tr style=\"text-align: right;\">\n",
       "      <th></th>\n",
       "      <th>ZCTA5CE20</th>\n",
       "      <th>GEOID20</th>\n",
       "      <th>CLASSFP20</th>\n",
       "      <th>MTFCC20</th>\n",
       "      <th>FUNCSTAT20</th>\n",
       "      <th>ALAND20</th>\n",
       "      <th>AWATER20</th>\n",
       "      <th>INTPTLAT20</th>\n",
       "      <th>INTPTLON20</th>\n",
       "      <th>geometry</th>\n",
       "    </tr>\n",
       "  </thead>\n",
       "  <tbody>\n",
       "    <tr>\n",
       "      <th>0</th>\n",
       "      <td>35592</td>\n",
       "      <td>35592</td>\n",
       "      <td>B5</td>\n",
       "      <td>G6350</td>\n",
       "      <td>S</td>\n",
       "      <td>298552385</td>\n",
       "      <td>235989</td>\n",
       "      <td>+33.7427261</td>\n",
       "      <td>-088.0973903</td>\n",
       "      <td>POLYGON ((-88.24735 33.65390, -88.24713 33.654...</td>\n",
       "    </tr>\n",
       "    <tr>\n",
       "      <th>1</th>\n",
       "      <td>35616</td>\n",
       "      <td>35616</td>\n",
       "      <td>B5</td>\n",
       "      <td>G6350</td>\n",
       "      <td>S</td>\n",
       "      <td>559506992</td>\n",
       "      <td>41870756</td>\n",
       "      <td>+34.7395036</td>\n",
       "      <td>-088.0193814</td>\n",
       "      <td>POLYGON ((-88.13997 34.58184, -88.13995 34.582...</td>\n",
       "    </tr>\n",
       "  </tbody>\n",
       "</table>\n",
       "</div>"
      ],
      "text/plain": [
       "  ZCTA5CE20 GEOID20 CLASSFP20 MTFCC20 FUNCSTAT20    ALAND20  AWATER20  \\\n",
       "0     35592   35592        B5   G6350          S  298552385    235989   \n",
       "1     35616   35616        B5   G6350          S  559506992  41870756   \n",
       "\n",
       "    INTPTLAT20    INTPTLON20  \\\n",
       "0  +33.7427261  -088.0973903   \n",
       "1  +34.7395036  -088.0193814   \n",
       "\n",
       "                                            geometry  \n",
       "0  POLYGON ((-88.24735 33.65390, -88.24713 33.654...  \n",
       "1  POLYGON ((-88.13997 34.58184, -88.13995 34.582...  "
      ]
     },
     "execution_count": 3,
     "metadata": {},
     "output_type": "execute_result"
    }
   ],
   "source": [
    "gdf.head(2)"
   ]
  },
  {
   "cell_type": "code",
   "execution_count": 4,
   "metadata": {},
   "outputs": [
    {
     "data": {
      "text/plain": [
       "True"
      ]
     },
     "execution_count": 4,
     "metadata": {},
     "output_type": "execute_result"
    }
   ],
   "source": [
    "all(gdf[\"ZCTA5CE20\"] == gdf[\"GEOID20\"])"
   ]
  },
  {
   "cell_type": "code",
   "execution_count": 5,
   "metadata": {},
   "outputs": [],
   "source": [
    "# See: https://en.wikipedia.org/wiki/List_of_ZIP_Code_prefixes\n",
    "international_prefixes = [\"001\", \"002\", \"004\", \"006\", \"007\", \"008\", \"009\", \"969\"]\n",
    "dc_prefixes = [\"200\", \"202\", \"203\", \"204\", \"205\"]\n",
    "gdf[\"prefix\"] = gdf[\"ZCTA5CE20\"].str[:3]"
   ]
  },
  {
   "cell_type": "code",
   "execution_count": 6,
   "metadata": {},
   "outputs": [
    {
     "data": {
      "text/plain": [
       "57"
      ]
     },
     "execution_count": 6,
     "metadata": {},
     "output_type": "execute_result"
    }
   ],
   "source": [
    "len(gdf.query(\"prefix in @dc_prefixes\").sort_values(by=\"ZCTA5CE20\"))"
   ]
  },
  {
   "cell_type": "code",
   "execution_count": 7,
   "metadata": {},
   "outputs": [
    {
     "data": {
      "text/plain": [
       "148"
      ]
     },
     "execution_count": 7,
     "metadata": {},
     "output_type": "execute_result"
    }
   ],
   "source": [
    "len(gdf.query(\"prefix in @international_prefixes\").sort_values(by=\"ZCTA5CE20\"))"
   ]
  },
  {
   "cell_type": "code",
   "execution_count": 8,
   "metadata": {},
   "outputs": [
    {
     "data": {
      "text/plain": [
       "<Geographic 2D CRS: EPSG:4269>\n",
       "Name: NAD83\n",
       "Axis Info [ellipsoidal]:\n",
       "- Lat[north]: Geodetic latitude (degree)\n",
       "- Lon[east]: Geodetic longitude (degree)\n",
       "Area of Use:\n",
       "- name: North America - onshore and offshore: Canada - Alberta; British Columbia; Manitoba; New Brunswick; Newfoundland and Labrador; Northwest Territories; Nova Scotia; Nunavut; Ontario; Prince Edward Island; Quebec; Saskatchewan; Yukon. Puerto Rico. United States (USA) - Alabama; Alaska; Arizona; Arkansas; California; Colorado; Connecticut; Delaware; Florida; Georgia; Hawaii; Idaho; Illinois; Indiana; Iowa; Kansas; Kentucky; Louisiana; Maine; Maryland; Massachusetts; Michigan; Minnesota; Mississippi; Missouri; Montana; Nebraska; Nevada; New Hampshire; New Jersey; New Mexico; New York; North Carolina; North Dakota; Ohio; Oklahoma; Oregon; Pennsylvania; Rhode Island; South Carolina; South Dakota; Tennessee; Texas; Utah; Vermont; Virginia; Washington; West Virginia; Wisconsin; Wyoming. US Virgin Islands. British Virgin Islands.\n",
       "- bounds: (167.65, 14.92, -40.73, 86.45)\n",
       "Datum: North American Datum 1983\n",
       "- Ellipsoid: GRS 1980\n",
       "- Prime Meridian: Greenwich"
      ]
     },
     "execution_count": 8,
     "metadata": {},
     "output_type": "execute_result"
    }
   ],
   "source": [
    "gdf.crs"
   ]
  }
 ],
 "metadata": {
  "kernelspec": {
   "display_name": "env",
   "language": "python",
   "name": "python3"
  },
  "language_info": {
   "codemirror_mode": {
    "name": "ipython",
    "version": 3
   },
   "file_extension": ".py",
   "mimetype": "text/x-python",
   "name": "python",
   "nbconvert_exporter": "python",
   "pygments_lexer": "ipython3",
   "version": "3.8.10"
  }
 },
 "nbformat": 4,
 "nbformat_minor": 2
}
