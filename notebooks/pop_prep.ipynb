{
 "cells": [
  {
   "cell_type": "code",
   "execution_count": null,
   "metadata": {},
   "outputs": [],
   "source": [
    "#Restart kernel if rerunning this cell\n",
    "import os \n",
    "wd = os.path.dirname(os.getcwd()).replace('\\\\', '/')\n",
    "os.chdir(wd)\n",
    "\n",
    "import pandas as pd\n",
    "import geopandas as gpd\n",
    "import scripts.preprocess_helper as ph\n",
    "import scripts.cleanup_helper as ch\n",
    "from scripts.cleanup_helper import LowIncomeCleanup\n",
    "import scripts.overlay_map_helper as omh\n",
    "import omegaconf\n",
    "import warnings\n",
    "\n",
    "warnings.filterwarnings('ignore')\n",
    "pd.set_option('display.max_columns', None)"
   ]
  }
 ],
 "metadata": {
  "language_info": {
   "name": "python"
  },
  "orig_nbformat": 4
 },
 "nbformat": 4,
 "nbformat_minor": 2
}
