{
 "cells": [
  {
   "cell_type": "markdown",
   "metadata": {},
   "source": [
    "# Coal Closure Census Tracts\n",
    "\n",
    "Exploratory data analysis of the census tracts that have been affected by coal mine closure or generating unit retirement and are therefore eligible for renewable energy tax credits under the Inflation Reduction Act (IRA) of 2022."
   ]
  },
  {
   "cell_type": "markdown",
   "metadata": {},
   "source": [
    "### Summary\n",
    "\n",
    "The dataset contains 4,191 census tracts, all of which qualify as an energy community and are located within the 50 U.S. States and the District of Columbia. Relevant columns include FIPS Codes for the state (`fipstate_2`), county (`fipcounty_`), and tract (`fiptract_2`); the geography id for the tract, `geoid_trac`, which combines all FIPS Codes; and the state name (`State_Name`), county name (`County_Nam`), and census tract name (`CensusTrac`) columns. The dataset has a coordinate reference system (CRS) of EPSG:4269, which is standard for federal agencies."
   ]
  },
  {
   "cell_type": "markdown",
   "metadata": {},
   "source": [
    "### Exploration"
   ]
  },
  {
   "cell_type": "code",
   "execution_count": 1,
   "metadata": {},
   "outputs": [],
   "source": [
    "import geopandas as gpd\n",
    "import pandas as pd"
   ]
  },
  {
   "cell_type": "code",
   "execution_count": 2,
   "metadata": {},
   "outputs": [],
   "source": [
    "pd.set_option(\"display.max_columns\", None)"
   ]
  },
  {
   "cell_type": "code",
   "execution_count": 3,
   "metadata": {},
   "outputs": [
    {
     "name": "stdout",
     "output_type": "stream",
     "text": [
      "<class 'geopandas.geodataframe.GeoDataFrame'>\n",
      "RangeIndex: 4191 entries, 0 to 4190\n",
      "Data columns (total 23 columns):\n",
      " #   Column      Non-Null Count  Dtype   \n",
      "---  ------      --------------  -----   \n",
      " 0   AFFGEOID_T  4191 non-null   object  \n",
      " 1   fipstate_2  4191 non-null   object  \n",
      " 2   fipcounty_  4191 non-null   object  \n",
      " 3   geoid_coun  4191 non-null   object  \n",
      " 4   fiptract_2  4191 non-null   object  \n",
      " 5   geoid_trac  4191 non-null   object  \n",
      " 6   Mine_Qual   4191 non-null   object  \n",
      " 7   Generator_  4191 non-null   object  \n",
      " 8   Neighbor_Q  4191 non-null   object  \n",
      " 9   State_Name  4191 non-null   object  \n",
      " 10  County_Nam  4191 non-null   object  \n",
      " 11  CensusTrac  4191 non-null   object  \n",
      " 12  Mine_Closu  4191 non-null   object  \n",
      " 13  Generator1  4191 non-null   object  \n",
      " 14  Adjacent_t  4191 non-null   object  \n",
      " 15  Tract_Stat  4191 non-null   object  \n",
      " 16  date_last_  4191 non-null   object  \n",
      " 17  dataset_ve  4191 non-null   float64 \n",
      " 18  record_add  4191 non-null   object  \n",
      " 19  Symbol      4191 non-null   object  \n",
      " 20  Shape_Leng  4191 non-null   float64 \n",
      " 21  Shape_Area  4191 non-null   float64 \n",
      " 22  geometry    4191 non-null   geometry\n",
      "dtypes: float64(3), geometry(1), object(19)\n",
      "memory usage: 753.2+ KB\n"
     ]
    }
   ],
   "source": [
    "data_dir = \"../data/raw/bonus/energy/\"\n",
    "file = \"ira_coal_closure_energy_comm_2023v2.zip\"\n",
    "folder = \"IRA_Coal_Closure_Energy_Comm_2023v2/Coal_Closure_Energy_Communities_SHP_2023v2\"\n",
    "gdf = gpd.read_file(f\"{data_dir}{file}!{folder}\")\n",
    "gdf.info()"
   ]
  },
  {
   "cell_type": "code",
   "execution_count": 4,
   "metadata": {},
   "outputs": [
    {
     "data": {
      "text/plain": [
       "Index(['AFFGEOID_T', 'fipstate_2', 'fipcounty_', 'geoid_coun', 'fiptract_2',\n",
       "       'geoid_trac', 'Mine_Qual', 'Generator_', 'Neighbor_Q', 'State_Name',\n",
       "       'County_Nam', 'CensusTrac', 'Mine_Closu', 'Generator1', 'Adjacent_t',\n",
       "       'Tract_Stat', 'date_last_', 'dataset_ve', 'record_add', 'Symbol',\n",
       "       'Shape_Leng', 'Shape_Area', 'geometry'],\n",
       "      dtype='object')"
      ]
     },
     "execution_count": 4,
     "metadata": {},
     "output_type": "execute_result"
    }
   ],
   "source": [
    "gdf.columns"
   ]
  },
  {
   "cell_type": "code",
   "execution_count": 5,
   "metadata": {},
   "outputs": [
    {
     "data": {
      "text/html": [
       "<div>\n",
       "<style scoped>\n",
       "    .dataframe tbody tr th:only-of-type {\n",
       "        vertical-align: middle;\n",
       "    }\n",
       "\n",
       "    .dataframe tbody tr th {\n",
       "        vertical-align: top;\n",
       "    }\n",
       "\n",
       "    .dataframe thead th {\n",
       "        text-align: right;\n",
       "    }\n",
       "</style>\n",
       "<table border=\"1\" class=\"dataframe\">\n",
       "  <thead>\n",
       "    <tr style=\"text-align: right;\">\n",
       "      <th></th>\n",
       "      <th>AFFGEOID_T</th>\n",
       "      <th>fipstate_2</th>\n",
       "      <th>fipcounty_</th>\n",
       "      <th>geoid_coun</th>\n",
       "      <th>fiptract_2</th>\n",
       "      <th>geoid_trac</th>\n",
       "      <th>Mine_Qual</th>\n",
       "      <th>Generator_</th>\n",
       "      <th>Neighbor_Q</th>\n",
       "      <th>State_Name</th>\n",
       "      <th>County_Nam</th>\n",
       "      <th>CensusTrac</th>\n",
       "      <th>Mine_Closu</th>\n",
       "      <th>Generator1</th>\n",
       "      <th>Adjacent_t</th>\n",
       "      <th>Tract_Stat</th>\n",
       "      <th>date_last_</th>\n",
       "      <th>dataset_ve</th>\n",
       "      <th>record_add</th>\n",
       "      <th>Symbol</th>\n",
       "      <th>Shape_Leng</th>\n",
       "      <th>Shape_Area</th>\n",
       "      <th>geometry</th>\n",
       "    </tr>\n",
       "  </thead>\n",
       "  <tbody>\n",
       "    <tr>\n",
       "      <th>0</th>\n",
       "      <td>1400000US01003010100</td>\n",
       "      <td>01</td>\n",
       "      <td>003</td>\n",
       "      <td>01003</td>\n",
       "      <td>010100</td>\n",
       "      <td>01003010100</td>\n",
       "      <td>0</td>\n",
       "      <td>0</td>\n",
       "      <td>1</td>\n",
       "      <td>Alabama</td>\n",
       "      <td>Baldwin County</td>\n",
       "      <td>Census Tract 101</td>\n",
       "      <td>No</td>\n",
       "      <td>No</td>\n",
       "      <td>Yes</td>\n",
       "      <td>is an energy community because it directly adj...</td>\n",
       "      <td>2023-05-23</td>\n",
       "      <td>2023.2</td>\n",
       "      <td>2023-03-28</td>\n",
       "      <td>Census tract directly adjoining a census tract...</td>\n",
       "      <td>1.700086</td>\n",
       "      <td>0.095410</td>\n",
       "      <td>POLYGON ((-87.97692 31.08658, -87.97688 31.087...</td>\n",
       "    </tr>\n",
       "    <tr>\n",
       "      <th>1</th>\n",
       "      <td>1400000US01007010001</td>\n",
       "      <td>01</td>\n",
       "      <td>007</td>\n",
       "      <td>01007</td>\n",
       "      <td>010001</td>\n",
       "      <td>01007010001</td>\n",
       "      <td>1</td>\n",
       "      <td>0</td>\n",
       "      <td>1</td>\n",
       "      <td>Alabama</td>\n",
       "      <td>Bibb County</td>\n",
       "      <td>Census Tract 100.01</td>\n",
       "      <td>Yes</td>\n",
       "      <td>No</td>\n",
       "      <td>Yes</td>\n",
       "      <td>is an energy community due to a coal mine closure</td>\n",
       "      <td>2023-05-23</td>\n",
       "      <td>2023.2</td>\n",
       "      <td>2023-03-28</td>\n",
       "      <td>Census tract with a coal closure</td>\n",
       "      <td>0.885810</td>\n",
       "      <td>0.022621</td>\n",
       "      <td>POLYGON ((-87.31218 33.08729, -87.31211 33.088...</td>\n",
       "    </tr>\n",
       "  </tbody>\n",
       "</table>\n",
       "</div>"
      ],
      "text/plain": [
       "             AFFGEOID_T fipstate_2 fipcounty_ geoid_coun fiptract_2  \\\n",
       "0  1400000US01003010100         01        003      01003     010100   \n",
       "1  1400000US01007010001         01        007      01007     010001   \n",
       "\n",
       "    geoid_trac Mine_Qual Generator_ Neighbor_Q State_Name      County_Nam  \\\n",
       "0  01003010100         0          0          1    Alabama  Baldwin County   \n",
       "1  01007010001         1          0          1    Alabama     Bibb County   \n",
       "\n",
       "            CensusTrac Mine_Closu Generator1 Adjacent_t  \\\n",
       "0     Census Tract 101         No         No        Yes   \n",
       "1  Census Tract 100.01        Yes         No        Yes   \n",
       "\n",
       "                                          Tract_Stat  date_last_  dataset_ve  \\\n",
       "0  is an energy community because it directly adj...  2023-05-23      2023.2   \n",
       "1  is an energy community due to a coal mine closure  2023-05-23      2023.2   \n",
       "\n",
       "   record_add                                             Symbol  Shape_Leng  \\\n",
       "0  2023-03-28  Census tract directly adjoining a census tract...    1.700086   \n",
       "1  2023-03-28                   Census tract with a coal closure    0.885810   \n",
       "\n",
       "   Shape_Area                                           geometry  \n",
       "0    0.095410  POLYGON ((-87.97692 31.08658, -87.97688 31.087...  \n",
       "1    0.022621  POLYGON ((-87.31218 33.08729, -87.31211 33.088...  "
      ]
     },
     "execution_count": 5,
     "metadata": {},
     "output_type": "execute_result"
    }
   ],
   "source": [
    "gdf.head(2)"
   ]
  },
  {
   "cell_type": "code",
   "execution_count": 6,
   "metadata": {},
   "outputs": [
    {
     "data": {
      "text/plain": [
       "array(['is an energy community because it directly adjoins a census tract with a qualifying coal closure',\n",
       "       'is an energy community due to a coal mine closure',\n",
       "       'is an energy community due to a coal-fired electric generating unit retirement',\n",
       "       'is an energy community due to a coal-fired electric generating unit retirement and coal mine closure'],\n",
       "      dtype=object)"
      ]
     },
     "execution_count": 6,
     "metadata": {},
     "output_type": "execute_result"
    }
   ],
   "source": [
    "gdf[\"Tract_Stat\"].sort_values().unique()"
   ]
  },
  {
   "cell_type": "code",
   "execution_count": 7,
   "metadata": {},
   "outputs": [
    {
     "data": {
      "text/plain": [
       "array(['01', '04', '05', '06', '08', '09', '10', '11', '12', '13', '15',\n",
       "       '17', '18', '19', '20', '21', '22', '24', '25', '26', '27', '28',\n",
       "       '29', '30', '31', '32', '34', '35', '36', '37', '38', '39', '40',\n",
       "       '41', '42', '44', '45', '46', '47', '48', '49', '51', '53', '54',\n",
       "       '55', '56'], dtype=object)"
      ]
     },
     "execution_count": 7,
     "metadata": {},
     "output_type": "execute_result"
    }
   ],
   "source": [
    "gdf[\"fipstate_2\"].sort_values().unique()"
   ]
  },
  {
   "cell_type": "code",
   "execution_count": 8,
   "metadata": {},
   "outputs": [
    {
     "data": {
      "text/plain": [
       "<Geographic 2D CRS: EPSG:4269>\n",
       "Name: NAD83\n",
       "Axis Info [ellipsoidal]:\n",
       "- Lat[north]: Geodetic latitude (degree)\n",
       "- Lon[east]: Geodetic longitude (degree)\n",
       "Area of Use:\n",
       "- name: North America - onshore and offshore: Canada - Alberta; British Columbia; Manitoba; New Brunswick; Newfoundland and Labrador; Northwest Territories; Nova Scotia; Nunavut; Ontario; Prince Edward Island; Quebec; Saskatchewan; Yukon. Puerto Rico. United States (USA) - Alabama; Alaska; Arizona; Arkansas; California; Colorado; Connecticut; Delaware; Florida; Georgia; Hawaii; Idaho; Illinois; Indiana; Iowa; Kansas; Kentucky; Louisiana; Maine; Maryland; Massachusetts; Michigan; Minnesota; Mississippi; Missouri; Montana; Nebraska; Nevada; New Hampshire; New Jersey; New Mexico; New York; North Carolina; North Dakota; Ohio; Oklahoma; Oregon; Pennsylvania; Rhode Island; South Carolina; South Dakota; Tennessee; Texas; Utah; Vermont; Virginia; Washington; West Virginia; Wisconsin; Wyoming. US Virgin Islands. British Virgin Islands.\n",
       "- bounds: (167.65, 14.92, -40.73, 86.45)\n",
       "Datum: North American Datum 1983\n",
       "- Ellipsoid: GRS 1980\n",
       "- Prime Meridian: Greenwich"
      ]
     },
     "execution_count": 8,
     "metadata": {},
     "output_type": "execute_result"
    }
   ],
   "source": [
    "gdf.crs"
   ]
  }
 ],
 "metadata": {
  "kernelspec": {
   "display_name": "env",
   "language": "python",
   "name": "python3"
  },
  "language_info": {
   "codemirror_mode": {
    "name": "ipython",
    "version": 3
   },
   "file_extension": ".py",
   "mimetype": "text/x-python",
   "name": "python",
   "nbconvert_exporter": "python",
   "pygments_lexer": "ipython3",
   "version": "3.8.10"
  }
 },
 "nbformat": 4,
 "nbformat_minor": 2
}
