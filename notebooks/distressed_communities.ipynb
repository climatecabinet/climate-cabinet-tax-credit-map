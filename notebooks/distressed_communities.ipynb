{
 "cells": [
  {
   "cell_type": "markdown",
   "metadata": {},
   "source": [
    "# Distressed Communities\n",
    "\n",
    "Exploratory data analysis of distressed zip codes from Economic Innovation Group."
   ]
  },
  {
   "cell_type": "markdown",
   "metadata": {},
   "source": [
    "#### Summary\n",
    "\n",
    "The DCI \"combines seven complementary economic indicators into a single summary statistic that conveys each community's standing _relative to its peers_\" (emphasis added):\n",
    "\n",
    "1. No High School Diploma\n",
    "2. Housing Vacancy Rate\n",
    "3. Adults Not Working\n",
    "4. Poverty Rate\n",
    "5. Median Income Ratio\n",
    "6. Change in Employment\n",
    "7. Change in Establishments\n",
    "\n",
    "There are 26,059 zip codes in the dataset spanning the 50 U.S. States and the District of Columbia. Distressed scores range from 0 to 100, and the top quintile of scores are classified as \"distressed\" (here: 5,212 records). Relevant fields include the zip code number (`Zipcode`) and distressed indicator (`Quintile (5=Distressed)`)."
   ]
  },
  {
   "cell_type": "markdown",
   "metadata": {},
   "source": [
    "#### Exploration"
   ]
  },
  {
   "cell_type": "code",
   "execution_count": 1,
   "metadata": {},
   "outputs": [],
   "source": [
    "import pandas as pd"
   ]
  },
  {
   "cell_type": "code",
   "execution_count": 2,
   "metadata": {},
   "outputs": [
    {
     "name": "stdout",
     "output_type": "stream",
     "text": [
      "<class 'pandas.core.frame.DataFrame'>\n",
      "RangeIndex: 26059 entries, 0 to 26058\n",
      "Data columns (total 11 columns):\n",
      " #   Column                   Non-Null Count  Dtype  \n",
      "---  ------                   --------------  -----  \n",
      " 0   Zipcode                  26059 non-null  int64  \n",
      " 1   Metro area               15894 non-null  object \n",
      " 2   City                     26055 non-null  object \n",
      " 3   County                   26059 non-null  object \n",
      " 4   State                    26059 non-null  object \n",
      " 5   State Abbreviation       26059 non-null  object \n",
      " 6   Census Region            26059 non-null  object \n",
      " 7   County Type              26059 non-null  object \n",
      " 8   Total Population         26059 non-null  int64  \n",
      " 9   Distress Score           26059 non-null  float64\n",
      " 10  Quintile (5=Distressed)  26059 non-null  int64  \n",
      "dtypes: float64(1), int64(3), object(7)\n",
      "memory usage: 2.2+ MB\n"
     ]
    }
   ],
   "source": [
    "df = pd.read_excel(\n",
    "    io=\"../data/raw/bonus/distressed/DCI-2016-2020-Academic-Non-profit-Government-Scores-Only.xlsx\",\n",
    "    sheet_name=\"Zip code\"\n",
    ")\n",
    "df.info()"
   ]
  },
  {
   "cell_type": "code",
   "execution_count": 3,
   "metadata": {},
   "outputs": [
    {
     "data": {
      "text/html": [
       "<div>\n",
       "<style scoped>\n",
       "    .dataframe tbody tr th:only-of-type {\n",
       "        vertical-align: middle;\n",
       "    }\n",
       "\n",
       "    .dataframe tbody tr th {\n",
       "        vertical-align: top;\n",
       "    }\n",
       "\n",
       "    .dataframe thead th {\n",
       "        text-align: right;\n",
       "    }\n",
       "</style>\n",
       "<table border=\"1\" class=\"dataframe\">\n",
       "  <thead>\n",
       "    <tr style=\"text-align: right;\">\n",
       "      <th></th>\n",
       "      <th>Zipcode</th>\n",
       "      <th>Metro area</th>\n",
       "      <th>City</th>\n",
       "      <th>County</th>\n",
       "      <th>State</th>\n",
       "      <th>State Abbreviation</th>\n",
       "      <th>Census Region</th>\n",
       "      <th>County Type</th>\n",
       "      <th>Total Population</th>\n",
       "      <th>Distress Score</th>\n",
       "      <th>Quintile (5=Distressed)</th>\n",
       "    </tr>\n",
       "  </thead>\n",
       "  <tbody>\n",
       "    <tr>\n",
       "      <th>0</th>\n",
       "      <td>1001</td>\n",
       "      <td>Springfield, MA</td>\n",
       "      <td>Agawam Town, MA</td>\n",
       "      <td>Hampden County, Massachusetts</td>\n",
       "      <td>Massachusetts</td>\n",
       "      <td>MA</td>\n",
       "      <td>Northeast</td>\n",
       "      <td>Small urban</td>\n",
       "      <td>16064</td>\n",
       "      <td>35.016693</td>\n",
       "      <td>2</td>\n",
       "    </tr>\n",
       "    <tr>\n",
       "      <th>1</th>\n",
       "      <td>1002</td>\n",
       "      <td>NaN</td>\n",
       "      <td>Amherst Center, MA</td>\n",
       "      <td>Franklin County, Massachusetts</td>\n",
       "      <td>Massachusetts</td>\n",
       "      <td>MA</td>\n",
       "      <td>Northeast</td>\n",
       "      <td>Exurban</td>\n",
       "      <td>30099</td>\n",
       "      <td>71.057984</td>\n",
       "      <td>4</td>\n",
       "    </tr>\n",
       "    <tr>\n",
       "      <th>2</th>\n",
       "      <td>1005</td>\n",
       "      <td>Worcester, MA-CT</td>\n",
       "      <td>Barre, MA</td>\n",
       "      <td>Worcester County, Massachusetts</td>\n",
       "      <td>Massachusetts</td>\n",
       "      <td>MA</td>\n",
       "      <td>Northeast</td>\n",
       "      <td>Small urban</td>\n",
       "      <td>5166</td>\n",
       "      <td>31.386469</td>\n",
       "      <td>2</td>\n",
       "    </tr>\n",
       "    <tr>\n",
       "      <th>3</th>\n",
       "      <td>1007</td>\n",
       "      <td>Springfield, MA</td>\n",
       "      <td>Belchertown, MA</td>\n",
       "      <td>Hampshire County, Massachusetts</td>\n",
       "      <td>Massachusetts</td>\n",
       "      <td>MA</td>\n",
       "      <td>Northeast</td>\n",
       "      <td>Exurban</td>\n",
       "      <td>15080</td>\n",
       "      <td>15.725853</td>\n",
       "      <td>1</td>\n",
       "    </tr>\n",
       "    <tr>\n",
       "      <th>4</th>\n",
       "      <td>1008</td>\n",
       "      <td>Springfield, MA</td>\n",
       "      <td>Blandford, MA</td>\n",
       "      <td>Hampden County, Massachusetts</td>\n",
       "      <td>Massachusetts</td>\n",
       "      <td>MA</td>\n",
       "      <td>Northeast</td>\n",
       "      <td>Small urban</td>\n",
       "      <td>1116</td>\n",
       "      <td>9.781649</td>\n",
       "      <td>1</td>\n",
       "    </tr>\n",
       "  </tbody>\n",
       "</table>\n",
       "</div>"
      ],
      "text/plain": [
       "   Zipcode        Metro area                City  \\\n",
       "0     1001   Springfield, MA     Agawam Town, MA   \n",
       "1     1002               NaN  Amherst Center, MA   \n",
       "2     1005  Worcester, MA-CT           Barre, MA   \n",
       "3     1007   Springfield, MA     Belchertown, MA   \n",
       "4     1008   Springfield, MA       Blandford, MA   \n",
       "\n",
       "                            County          State State Abbreviation  \\\n",
       "0    Hampden County, Massachusetts  Massachusetts                 MA   \n",
       "1   Franklin County, Massachusetts  Massachusetts                 MA   \n",
       "2  Worcester County, Massachusetts  Massachusetts                 MA   \n",
       "3  Hampshire County, Massachusetts  Massachusetts                 MA   \n",
       "4    Hampden County, Massachusetts  Massachusetts                 MA   \n",
       "\n",
       "  Census Region  County Type  Total Population  Distress Score  \\\n",
       "0     Northeast  Small urban             16064       35.016693   \n",
       "1     Northeast      Exurban             30099       71.057984   \n",
       "2     Northeast  Small urban              5166       31.386469   \n",
       "3     Northeast      Exurban             15080       15.725853   \n",
       "4     Northeast  Small urban              1116        9.781649   \n",
       "\n",
       "   Quintile (5=Distressed)  \n",
       "0                        2  \n",
       "1                        4  \n",
       "2                        2  \n",
       "3                        1  \n",
       "4                        1  "
      ]
     },
     "execution_count": 3,
     "metadata": {},
     "output_type": "execute_result"
    }
   ],
   "source": [
    "df.head()"
   ]
  },
  {
   "cell_type": "code",
   "execution_count": 4,
   "metadata": {},
   "outputs": [
    {
     "data": {
      "text/plain": [
       "51"
      ]
     },
     "execution_count": 4,
     "metadata": {},
     "output_type": "execute_result"
    }
   ],
   "source": [
    "len(df.State.unique())"
   ]
  },
  {
   "cell_type": "code",
   "execution_count": 5,
   "metadata": {},
   "outputs": [
    {
     "data": {
      "text/plain": [
       "array(['Alabama', 'Alaska', 'Arizona', 'Arkansas', 'California',\n",
       "       'Colorado', 'Connecticut', 'Delaware', 'District of Columbia',\n",
       "       'Florida', 'Georgia', 'Hawaii', 'Idaho', 'Illinois', 'Indiana',\n",
       "       'Iowa', 'Kansas', 'Kentucky', 'Louisiana', 'Maine', 'Maryland',\n",
       "       'Massachusetts', 'Michigan', 'Minnesota', 'Mississippi',\n",
       "       'Missouri', 'Montana', 'Nebraska', 'Nevada', 'New Hampshire',\n",
       "       'New Jersey', 'New Mexico', 'New York', 'North Carolina',\n",
       "       'North Dakota', 'Ohio', 'Oklahoma', 'Oregon', 'Pennsylvania',\n",
       "       'Rhode Island', 'South Carolina', 'South Dakota', 'Tennessee',\n",
       "       'Texas', 'Utah', 'Vermont', 'Virginia', 'Washington',\n",
       "       'West Virginia', 'Wisconsin', 'Wyoming'], dtype=object)"
      ]
     },
     "execution_count": 5,
     "metadata": {},
     "output_type": "execute_result"
    }
   ],
   "source": [
    "df.State.sort_values().unique()"
   ]
  },
  {
   "cell_type": "code",
   "execution_count": 6,
   "metadata": {},
   "outputs": [
    {
     "data": {
      "text/plain": [
       "count    26059.000000\n",
       "mean        50.001518\n",
       "std         28.868081\n",
       "min          0.003837\n",
       "25%         25.002878\n",
       "50%         50.001919\n",
       "75%         74.999041\n",
       "max        100.000000\n",
       "Name: Distress Score, dtype: float64"
      ]
     },
     "execution_count": 6,
     "metadata": {},
     "output_type": "execute_result"
    }
   ],
   "source": [
    "df[\"Distress Score\"].describe()"
   ]
  },
  {
   "cell_type": "code",
   "execution_count": 7,
   "metadata": {},
   "outputs": [
    {
     "data": {
      "text/plain": [
       "5212"
      ]
     },
     "execution_count": 7,
     "metadata": {},
     "output_type": "execute_result"
    }
   ],
   "source": [
    "len(df.query(\"`Quintile (5=Distressed)` == 5\"))"
   ]
  }
 ],
 "metadata": {
  "kernelspec": {
   "display_name": "env",
   "language": "python",
   "name": "python3"
  },
  "language_info": {
   "codemirror_mode": {
    "name": "ipython",
    "version": 3
   },
   "file_extension": ".py",
   "mimetype": "text/x-python",
   "name": "python",
   "nbconvert_exporter": "python",
   "pygments_lexer": "ipython3",
   "version": "3.8.10"
  },
  "orig_nbformat": 4
 },
 "nbformat": 4,
 "nbformat_minor": 2
}
