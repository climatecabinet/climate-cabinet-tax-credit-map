{
 "cells": [
  {
   "cell_type": "code",
   "execution_count": 1,
   "metadata": {},
   "outputs": [],
   "source": [
    "import pandas as pd\n",
    "import geopandas as gpd"
   ]
  },
  {
   "cell_type": "code",
   "execution_count": 12,
   "metadata": {},
   "outputs": [
    {
     "data": {
      "text/plain": [
       "'c:\\\\Users\\\\saikr\\\\Desktop\\\\CDF'"
      ]
     },
     "execution_count": 12,
     "metadata": {},
     "output_type": "execute_result"
    }
   ],
   "source": [
    "import os\n",
    "os.getcwd()"
   ]
  },
  {
   "attachments": {},
   "cell_type": "markdown",
   "metadata": {},
   "source": [
    "### From the utility territories cleaned data, make separate shape files for Rural and Municipal/Public Types"
   ]
  },
  {
   "cell_type": "code",
   "execution_count": 14,
   "metadata": {},
   "outputs": [
    {
     "name": "stdout",
     "output_type": "stream",
     "text": [
      "CPU times: total: 6.33 s\n",
      "Wall time: 11.7 s\n"
     ]
    },
    {
     "data": {
      "text/plain": [
       "(2949, 33)"
      ]
     },
     "execution_count": 14,
     "metadata": {},
     "output_type": "execute_result"
    }
   ],
   "source": [
    "%%time\n",
    "wd = 'c:\\\\Users\\\\saikr\\\\Desktop\\\\CDF\\\\Climate Cabinet\\\\'\n",
    "util_df = gpd.read_file(wd+'util_clean.shp')\n",
    "util_df.shape"
   ]
  },
  {
   "cell_type": "code",
   "execution_count": 15,
   "metadata": {},
   "outputs": [
    {
     "data": {
      "text/html": [
       "<div>\n",
       "<style scoped>\n",
       "    .dataframe tbody tr th:only-of-type {\n",
       "        vertical-align: middle;\n",
       "    }\n",
       "\n",
       "    .dataframe tbody tr th {\n",
       "        vertical-align: top;\n",
       "    }\n",
       "\n",
       "    .dataframe thead th {\n",
       "        text-align: right;\n",
       "    }\n",
       "</style>\n",
       "<table border=\"1\" class=\"dataframe\">\n",
       "  <thead>\n",
       "    <tr style=\"text-align: right;\">\n",
       "      <th></th>\n",
       "      <th>OBJECTID</th>\n",
       "      <th>ID</th>\n",
       "      <th>NAME</th>\n",
       "      <th>ADDRESS</th>\n",
       "      <th>CITY</th>\n",
       "      <th>STATE</th>\n",
       "      <th>ZIP</th>\n",
       "      <th>TELEPHONE</th>\n",
       "      <th>TYPE</th>\n",
       "      <th>COUNTRY</th>\n",
       "      <th>...</th>\n",
       "      <th>NET_EX</th>\n",
       "      <th>RETAIL_MWH</th>\n",
       "      <th>WSALE_MWH</th>\n",
       "      <th>TOTAL_MWH</th>\n",
       "      <th>TRANS_MWH</th>\n",
       "      <th>CUSTOMERS</th>\n",
       "      <th>YEAR</th>\n",
       "      <th>Shape__Are</th>\n",
       "      <th>Shape__Len</th>\n",
       "      <th>geometry</th>\n",
       "    </tr>\n",
       "  </thead>\n",
       "  <tbody>\n",
       "    <tr>\n",
       "      <th>0</th>\n",
       "      <td>1</td>\n",
       "      <td>1000</td>\n",
       "      <td>CITY OF AUGUSTA - (AR)</td>\n",
       "      <td>NOT AVAILABLE</td>\n",
       "      <td>NOT AVAILABLE</td>\n",
       "      <td>AR</td>\n",
       "      <td>NOT AVAILABLE</td>\n",
       "      <td>NOT AVAILABLE</td>\n",
       "      <td>MUNICIPAL</td>\n",
       "      <td>USA</td>\n",
       "      <td>...</td>\n",
       "      <td>-999999</td>\n",
       "      <td>-999999</td>\n",
       "      <td>-999999</td>\n",
       "      <td>-999999</td>\n",
       "      <td>-999999</td>\n",
       "      <td>916</td>\n",
       "      <td>2020</td>\n",
       "      <td>0.152271</td>\n",
       "      <td>2.625553</td>\n",
       "      <td>POLYGON ((-91.34713 35.43899, -91.34711 35.439...</td>\n",
       "    </tr>\n",
       "    <tr>\n",
       "      <th>1</th>\n",
       "      <td>2</td>\n",
       "      <td>10000</td>\n",
       "      <td>EVERGY METRO</td>\n",
       "      <td>1200 MAIN STREET</td>\n",
       "      <td>KANSAS CITY</td>\n",
       "      <td>KS</td>\n",
       "      <td>64105</td>\n",
       "      <td>NOT AVAILABLE</td>\n",
       "      <td>INVESTOR OWNED</td>\n",
       "      <td>USA</td>\n",
       "      <td>...</td>\n",
       "      <td>0</td>\n",
       "      <td>14223892</td>\n",
       "      <td>5957441</td>\n",
       "      <td>20536356</td>\n",
       "      <td>0</td>\n",
       "      <td>562180</td>\n",
       "      <td>2020</td>\n",
       "      <td>0.525845</td>\n",
       "      <td>10.131485</td>\n",
       "      <td>MULTIPOLYGON (((-94.66607 38.27027, -94.66941 ...</td>\n",
       "    </tr>\n",
       "    <tr>\n",
       "      <th>2</th>\n",
       "      <td>3</td>\n",
       "      <td>10005</td>\n",
       "      <td>EVERGY KANSAS SOUTH, INC</td>\n",
       "      <td>818 KANSAS AVENUE</td>\n",
       "      <td>TOPEKA</td>\n",
       "      <td>KS</td>\n",
       "      <td>66612</td>\n",
       "      <td>NOT AVAILABLE</td>\n",
       "      <td>INVESTOR OWNED</td>\n",
       "      <td>USA</td>\n",
       "      <td>...</td>\n",
       "      <td>0</td>\n",
       "      <td>9181326</td>\n",
       "      <td>1628176</td>\n",
       "      <td>10891290</td>\n",
       "      <td>0</td>\n",
       "      <td>334500</td>\n",
       "      <td>2020</td>\n",
       "      <td>3.937805</td>\n",
       "      <td>15.439905</td>\n",
       "      <td>POLYGON ((-95.50819 38.42458, -95.50818 38.415...</td>\n",
       "    </tr>\n",
       "  </tbody>\n",
       "</table>\n",
       "<p>3 rows × 33 columns</p>\n",
       "</div>"
      ],
      "text/plain": [
       "   OBJECTID     ID                      NAME            ADDRESS  \\\n",
       "0         1   1000    CITY OF AUGUSTA - (AR)      NOT AVAILABLE   \n",
       "1         2  10000              EVERGY METRO   1200 MAIN STREET   \n",
       "2         3  10005  EVERGY KANSAS SOUTH, INC  818 KANSAS AVENUE   \n",
       "\n",
       "            CITY STATE            ZIP      TELEPHONE            TYPE COUNTRY  \\\n",
       "0  NOT AVAILABLE    AR  NOT AVAILABLE  NOT AVAILABLE       MUNICIPAL     USA   \n",
       "1    KANSAS CITY    KS          64105  NOT AVAILABLE  INVESTOR OWNED     USA   \n",
       "2         TOPEKA    KS          66612  NOT AVAILABLE  INVESTOR OWNED     USA   \n",
       "\n",
       "   ...  NET_EX RETAIL_MWH WSALE_MWH TOTAL_MWH TRANS_MWH CUSTOMERS  YEAR  \\\n",
       "0  ... -999999    -999999   -999999   -999999   -999999       916  2020   \n",
       "1  ...       0   14223892   5957441  20536356         0    562180  2020   \n",
       "2  ...       0    9181326   1628176  10891290         0    334500  2020   \n",
       "\n",
       "   Shape__Are  Shape__Len                                           geometry  \n",
       "0    0.152271    2.625553  POLYGON ((-91.34713 35.43899, -91.34711 35.439...  \n",
       "1    0.525845   10.131485  MULTIPOLYGON (((-94.66607 38.27027, -94.66941 ...  \n",
       "2    3.937805   15.439905  POLYGON ((-95.50819 38.42458, -95.50818 38.415...  \n",
       "\n",
       "[3 rows x 33 columns]"
      ]
     },
     "execution_count": 15,
     "metadata": {},
     "output_type": "execute_result"
    }
   ],
   "source": [
    "util_df.head(3)"
   ]
  },
  {
   "cell_type": "code",
   "execution_count": 16,
   "metadata": {},
   "outputs": [
    {
     "data": {
      "text/plain": [
       "array(['MUNICIPAL', 'INVESTOR OWNED', 'COOPERATIVE',\n",
       "       'POLITICAL SUBDIVISION', 'STATE', 'MUNICIPAL MKTG AUTHORITY',\n",
       "       'WHOLESALE POWER MARKETER', 'FEDERAL',\n",
       "       'COMMUNITY CHOICE AGGREGATOR', 'NOT AVAILABLE'], dtype=object)"
      ]
     },
     "execution_count": 16,
     "metadata": {},
     "output_type": "execute_result"
    }
   ],
   "source": [
    "util_df.TYPE.unique()"
   ]
  },
  {
   "attachments": {},
   "cell_type": "markdown",
   "metadata": {},
   "source": [
    "- `'MUNICIPAL'`: This type represents municipal utilities.\n",
    "- `'POLITICAL SUBDIVISION'`: This type represents public power entities that are part of political subdivisions.\n",
    "- `'COOPERATIVE'` : This type represents rural electric cooperatives"
   ]
  },
  {
   "cell_type": "code",
   "execution_count": 17,
   "metadata": {},
   "outputs": [],
   "source": [
    "rural_utils = util_df.query('TYPE==\"COOPERATIVE\"')\n",
    "municipal_utils = util_df.query('TYPE==\"MUNICIPAL\" | TYPE==\"POLITICAL SUBDIVISION\"') "
   ]
  },
  {
   "cell_type": "code",
   "execution_count": 28,
   "metadata": {},
   "outputs": [
    {
     "data": {
      "text/html": [
       "<div>\n",
       "<style scoped>\n",
       "    .dataframe tbody tr th:only-of-type {\n",
       "        vertical-align: middle;\n",
       "    }\n",
       "\n",
       "    .dataframe tbody tr th {\n",
       "        vertical-align: top;\n",
       "    }\n",
       "\n",
       "    .dataframe thead th {\n",
       "        text-align: right;\n",
       "    }\n",
       "</style>\n",
       "<table border=\"1\" class=\"dataframe\">\n",
       "  <thead>\n",
       "    <tr style=\"text-align: right;\">\n",
       "      <th></th>\n",
       "      <th>Type</th>\n",
       "      <th>Record_Count</th>\n",
       "    </tr>\n",
       "  </thead>\n",
       "  <tbody>\n",
       "    <tr>\n",
       "      <th>0</th>\n",
       "      <td>Rural</td>\n",
       "      <td>812</td>\n",
       "    </tr>\n",
       "    <tr>\n",
       "      <th>1</th>\n",
       "      <td>Municipal_Public</td>\n",
       "      <td>1938</td>\n",
       "    </tr>\n",
       "    <tr>\n",
       "      <th>2</th>\n",
       "      <td>Total</td>\n",
       "      <td>2949</td>\n",
       "    </tr>\n",
       "  </tbody>\n",
       "</table>\n",
       "</div>"
      ],
      "text/plain": [
       "               Type  Record_Count\n",
       "0             Rural           812\n",
       "1  Municipal_Public          1938\n",
       "2             Total          2949"
      ]
     },
     "execution_count": 28,
     "metadata": {},
     "output_type": "execute_result"
    }
   ],
   "source": [
    "shape_df = pd.DataFrame({'Rural': [rural_utils.shape[0]], 'Municipal_Public': [municipal_utils.shape[0]], 'Total': [util_df.shape[0]]})\n",
    "shape_df = shape_df.transpose().reset_index()\n",
    "shape_df.columns = ['Type','Record_Count']\n",
    "shape_df"
   ]
  },
  {
   "cell_type": "code",
   "execution_count": null,
   "metadata": {},
   "outputs": [],
   "source": [
    "rural"
   ]
  }
 ],
 "metadata": {
  "kernelspec": {
   "display_name": "base",
   "language": "python",
   "name": "python3"
  },
  "language_info": {
   "codemirror_mode": {
    "name": "ipython",
    "version": 3
   },
   "file_extension": ".py",
   "mimetype": "text/x-python",
   "name": "python",
   "nbconvert_exporter": "python",
   "pygments_lexer": "ipython3",
   "version": "3.10.9"
  },
  "orig_nbformat": 4
 },
 "nbformat": 4,
 "nbformat_minor": 2
}
