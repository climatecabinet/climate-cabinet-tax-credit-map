{
 "cells": [
  {
   "cell_type": "code",
   "execution_count": 1,
   "metadata": {},
   "outputs": [],
   "source": [
    "#Restart kernel if rerunning this cell\n",
    "import os \n",
    "wd = os.path.dirname(os.getcwd()).replace('\\\\', '/')\n",
    "os.chdir(wd)\n",
    "\n",
    "import pandas as pd\n",
    "import geopandas as gpd\n",
    "import scripts.preprocess_helper as ph\n",
    "import scripts.cleanup_helper as ch\n",
    "from scripts.cleanup_helper import LowIncomeCleanup\n",
    "import scripts.overlay_map_helper as omh\n",
    "import omegaconf\n",
    "import warnings\n",
    "import tobler\n",
    "from tobler.area_weighted import area_interpolate\n",
    "\n",
    "warnings.filterwarnings('ignore')\n",
    "pd.set_option('display.max_columns', None)"
   ]
  },
  {
   "cell_type": "code",
   "execution_count": 59,
   "metadata": {},
   "outputs": [],
   "source": [
    "yaml_path = os.path.join(wd, 'conf', 'config.yaml')\n",
    "cfg = omegaconf.OmegaConf.load(yaml_path)\n",
    "paths = cfg.paths\n",
    "consts = cfg.constants"
   ]
  },
  {
   "cell_type": "code",
   "execution_count": 5,
   "metadata": {},
   "outputs": [
    {
     "name": "stdout",
     "output_type": "stream",
     "text": [
      "CPU times: total: 1min 50s\n",
      "Wall time: 5min 2s\n"
     ]
    }
   ],
   "source": [
    "%%time\n",
    "#Load the data\n",
    "data = {}\n",
    "datasets = {'coops': paths.utilities.rural_coops_path,'muns': paths.utilities.municipal_utils_path,\n",
    "            'j40': paths.j40.j40_clean_path,'coal': paths.energy.coal_clean_path,\n",
    "            'ffe': paths.energy.ffe_clean_path, 'lic': paths.low_income.low_inc_clean_path,\n",
    "            'dci': paths.dci.dci_clean_path, 'tract_pop': paths.population.tract_pop_shp,\n",
    "            'msa_pop': paths.population.msa_pop_shp, 'cty_pop': paths.population.cty_pop_shp,\n",
    "            'cty': paths.boundaries.ct_clean_path,'st': paths.boundaries.st_clean_path,}\n",
    "\n",
    "for name, file_path in datasets.items():\n",
    "    file_type = 'shp' if file_path.endswith('.shp') else 'csv'\n",
    "    data[name] = ph.load_data(file_path, file_type)"
   ]
  },
  {
   "cell_type": "code",
   "execution_count": 29,
   "metadata": {},
   "outputs": [
    {
     "name": "stdout",
     "output_type": "stream",
     "text": [
      "CPU times: total: 7min 38s\n",
      "Wall time: 9min 20s\n"
     ]
    }
   ],
   "source": [
    "%%time\n",
    "community_list = ['j40', 'coal', 'ffe', 'lic', 'dci']\n",
    "community_data_list = [data['j40'], data['coal'], data['ffe'], data['lic'], data['dci']]\n",
    "for community, community_data in zip(community_list, community_data_list):\n",
    "    # Process overlays for coops\n",
    "    coop_overlay_key = community + '_coop'\n",
    "    overlays[coop_overlay_key] = omh.overlays(community=community, coops_utils=data['coops'], community_data=community_data, consts=consts.overlays)\n",
    "    coop_overlay_path = paths.overlays.coops[community + '_overlay_path']\n",
    "    os.makedirs(os.path.dirname(coop_overlay_path), exist_ok=True)\n",
    "    overlays[coop_overlay_key].to_file(coop_overlay_path)\n",
    "\n",
    "    # Process overlays for municipalities\n",
    "    muni_overlay_key = community + '_muni'\n",
    "    overlays[muni_overlay_key] = omh.overlays(community=community, coops_utils=data['muns'], community_data=community_data, consts=consts.overlays)\n",
    "    muni_overlay_path = paths.overlays.munis[community + '_overlay_path']\n",
    "    os.makedirs(os.path.dirname(muni_overlay_path), exist_ok=True)\n",
    "    overlays[muni_overlay_key].to_file(muni_overlay_path)\n"
   ]
  },
  {
   "cell_type": "code",
   "execution_count": 49,
   "metadata": {},
   "outputs": [],
   "source": [
    "# Function to perform population interpolation for a community overlay\n",
    "def interpolate_population(source_df, target_df):\n",
    "    results = area_interpolate(source_df=source_df, target_df=target_df, extensive_variables=['total_pop'])\n",
    "    overlay_df_with_pop = target_df.merge(results[['total_pop', 'geometry']], on='geometry', how='left')\n",
    "    return overlay_df_with_pop"
   ]
  },
  {
   "cell_type": "code",
   "execution_count": 50,
   "metadata": {},
   "outputs": [
    {
     "name": "stdout",
     "output_type": "stream",
     "text": [
      "CPU times: total: 14min 25s\n",
      "Wall time: 30min 46s\n"
     ]
    }
   ],
   "source": [
    "%%time\n",
    "tract_interpolated_results = {}\n",
    "county_interpolated_results = {}\n",
    "\n",
    "for overlay_key in overlays.keys():\n",
    "    if overlay_key.startswith(('j40', 'coal', 'lic', 'dci')):\n",
    "        tract_interpolated_results[overlay_key] = interpolate_population(data['tract_pop'], overlays[overlay_key])\n",
    "    elif overlay_key.startswith('ffe'):\n",
    "        county_interpolated_results[overlay_key] = interpolate_population(data['cty_pop'], overlays[overlay_key])"
   ]
  },
  {
   "cell_type": "code",
   "execution_count": 64,
   "metadata": {},
   "outputs": [],
   "source": [
    "def save_interpolated_results(interpolated_results, paths):\n",
    "    for overlay_key, df in interpolated_results.items():\n",
    "        output_path = paths.population[overlay_key + '_pop']\n",
    "        os.makedirs(os.path.dirname(output_path), exist_ok=True)\n",
    "        ph.save_data(df, output_path, type='shp')"
   ]
  },
  {
   "cell_type": "code",
   "execution_count": 65,
   "metadata": {},
   "outputs": [
    {
     "name": "stdout",
     "output_type": "stream",
     "text": [
      "CPU times: total: 7min 18s\n",
      "Wall time: 15min 18s\n"
     ]
    }
   ],
   "source": [
    "%%time\n",
    "save_interpolated_results(tract_interpolated_results, paths)\n",
    "save_interpolated_results(county_interpolated_results, paths)"
   ]
  },
  {
   "cell_type": "code",
   "execution_count": null,
   "metadata": {},
   "outputs": [],
   "source": []
  }
 ],
 "metadata": {
  "kernelspec": {
   "display_name": "base",
   "language": "python",
   "name": "python3"
  },
  "language_info": {
   "codemirror_mode": {
    "name": "ipython",
    "version": 3
   },
   "file_extension": ".py",
   "mimetype": "text/x-python",
   "name": "python",
   "nbconvert_exporter": "python",
   "pygments_lexer": "ipython3",
   "version": "3.10.9"
  },
  "orig_nbformat": 4
 },
 "nbformat": 4,
 "nbformat_minor": 2
}
