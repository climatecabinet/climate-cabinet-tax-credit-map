{
 "cells": [
  {
   "cell_type": "markdown",
   "metadata": {},
   "source": [
    "# Census Block Groups\n",
    "\n",
    "Exploratory data analysis for the 2020 census block group population-weighted centroids."
   ]
  },
  {
   "cell_type": "markdown",
   "metadata": {},
   "source": [
    "#### Summary\n",
    "\n",
    "There are 242,335 total population-weighted centroids for block groups. In addition to the geometry, relevant data fields include the state, county, and block group FIPS Codes (`STATEFP`, `COUNTYFP`, and `BLKGRPCE`, respectively) and population, `POPULATION`. The assumed CRS is EPSG:4269, the standard for federal agencies."
   ]
  },
  {
   "cell_type": "markdown",
   "metadata": {},
   "source": [
    "#### Exploration"
   ]
  },
  {
   "cell_type": "code",
   "execution_count": 1,
   "metadata": {},
   "outputs": [
    {
     "name": "stderr",
     "output_type": "stream",
     "text": [
      "/tmp/ipykernel_1504/1495544984.py:4: DeprecationWarning: Importing display from IPython.core.display is deprecated since IPython 7.14, please import from IPython display\n",
      "  from IPython.core.display import display, HTML\n"
     ]
    }
   ],
   "source": [
    "import geopandas as gpd\n",
    "import pandas as pd"
   ]
  },
  {
   "cell_type": "code",
   "execution_count": 2,
   "metadata": {},
   "outputs": [
    {
     "name": "stdout",
     "output_type": "stream",
     "text": [
      "<class 'pandas.core.frame.DataFrame'>\n",
      "RangeIndex: 242335 entries, 0 to 242334\n",
      "Data columns (total 7 columns):\n",
      " #   Column      Non-Null Count   Dtype  \n",
      "---  ------      --------------   -----  \n",
      " 0   STATEFP     242335 non-null  int64  \n",
      " 1   COUNTYFP    242335 non-null  int64  \n",
      " 2   TRACTCE     242335 non-null  int64  \n",
      " 3   BLKGRPCE    242335 non-null  int64  \n",
      " 4   POPULATION  242335 non-null  int64  \n",
      " 5   LATITUDE    242335 non-null  float64\n",
      " 6   LONGITUDE   242335 non-null  float64\n",
      "dtypes: float64(2), int64(5)\n",
      "memory usage: 12.9 MB\n"
     ]
    }
   ],
   "source": [
    "df = pd.read_csv(\"../data/raw/CenPop2020_Mean_BG.txt\")\n",
    "df.info()"
   ]
  },
  {
   "cell_type": "code",
   "execution_count": 3,
   "metadata": {},
   "outputs": [
    {
     "name": "stdout",
     "output_type": "stream",
     "text": [
      "<class 'geopandas.geodataframe.GeoDataFrame'>\n",
      "RangeIndex: 242335 entries, 0 to 242334\n",
      "Data columns (total 8 columns):\n",
      " #   Column      Non-Null Count   Dtype   \n",
      "---  ------      --------------   -----   \n",
      " 0   STATEFP     242335 non-null  int64   \n",
      " 1   COUNTYFP    242335 non-null  int64   \n",
      " 2   TRACTCE     242335 non-null  int64   \n",
      " 3   BLKGRPCE    242335 non-null  int64   \n",
      " 4   POPULATION  242335 non-null  int64   \n",
      " 5   LATITUDE    242335 non-null  float64 \n",
      " 6   LONGITUDE   242335 non-null  float64 \n",
      " 7   geometry    242335 non-null  geometry\n",
      "dtypes: float64(2), geometry(1), int64(5)\n",
      "memory usage: 14.8 MB\n"
     ]
    }
   ],
   "source": [
    "gdf = gpd.GeoDataFrame(df)\n",
    "gdf = gdf.set_geometry(gpd.points_from_xy(x=gdf.LONGITUDE, y=gdf.LATITUDE, crs=\"epsg:4269\"))\n",
    "gdf.info()"
   ]
  },
  {
   "cell_type": "code",
   "execution_count": 4,
   "metadata": {},
   "outputs": [
    {
     "data": {
      "text/html": [
       "<div>\n",
       "<style scoped>\n",
       "    .dataframe tbody tr th:only-of-type {\n",
       "        vertical-align: middle;\n",
       "    }\n",
       "\n",
       "    .dataframe tbody tr th {\n",
       "        vertical-align: top;\n",
       "    }\n",
       "\n",
       "    .dataframe thead th {\n",
       "        text-align: right;\n",
       "    }\n",
       "</style>\n",
       "<table border=\"1\" class=\"dataframe\">\n",
       "  <thead>\n",
       "    <tr style=\"text-align: right;\">\n",
       "      <th></th>\n",
       "      <th>STATEFP</th>\n",
       "      <th>COUNTYFP</th>\n",
       "      <th>TRACTCE</th>\n",
       "      <th>BLKGRPCE</th>\n",
       "      <th>POPULATION</th>\n",
       "      <th>LATITUDE</th>\n",
       "      <th>LONGITUDE</th>\n",
       "      <th>geometry</th>\n",
       "    </tr>\n",
       "  </thead>\n",
       "  <tbody>\n",
       "    <tr>\n",
       "      <th>0</th>\n",
       "      <td>1</td>\n",
       "      <td>1</td>\n",
       "      <td>20100</td>\n",
       "      <td>1</td>\n",
       "      <td>575</td>\n",
       "      <td>32.464466</td>\n",
       "      <td>-86.486302</td>\n",
       "      <td>POINT (-86.48630 32.46447)</td>\n",
       "    </tr>\n",
       "    <tr>\n",
       "      <th>1</th>\n",
       "      <td>1</td>\n",
       "      <td>1</td>\n",
       "      <td>20100</td>\n",
       "      <td>2</td>\n",
       "      <td>1200</td>\n",
       "      <td>32.482744</td>\n",
       "      <td>-86.486741</td>\n",
       "      <td>POINT (-86.48674 32.48274)</td>\n",
       "    </tr>\n",
       "  </tbody>\n",
       "</table>\n",
       "</div>"
      ],
      "text/plain": [
       "   STATEFP  COUNTYFP  TRACTCE  BLKGRPCE  POPULATION   LATITUDE  LONGITUDE  \\\n",
       "0        1         1    20100         1         575  32.464466 -86.486302   \n",
       "1        1         1    20100         2        1200  32.482744 -86.486741   \n",
       "\n",
       "                     geometry  \n",
       "0  POINT (-86.48630 32.46447)  \n",
       "1  POINT (-86.48674 32.48274)  "
      ]
     },
     "execution_count": 4,
     "metadata": {},
     "output_type": "execute_result"
    }
   ],
   "source": [
    "gdf.head(2)"
   ]
  }
 ],
 "metadata": {
  "kernelspec": {
   "display_name": "env",
   "language": "python",
   "name": "python3"
  },
  "language_info": {
   "codemirror_mode": {
    "name": "ipython",
    "version": 3
   },
   "file_extension": ".py",
   "mimetype": "text/x-python",
   "name": "python",
   "nbconvert_exporter": "python",
   "pygments_lexer": "ipython3",
   "version": "3.8.10"
  },
  "orig_nbformat": 4
 },
 "nbformat": 4,
 "nbformat_minor": 2
}
