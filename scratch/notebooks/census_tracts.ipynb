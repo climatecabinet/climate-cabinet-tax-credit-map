{
 "cells": [
  {
   "cell_type": "markdown",
   "metadata": {},
   "source": [
    "# Census Tracts\n",
    "\n",
    "Exploratory data analysis of the raw 2020 TIGER/Line Shapefiles for U.S. census tracts."
   ]
  },
  {
   "cell_type": "markdown",
   "metadata": {},
   "source": [
    "### Summary\n",
    "\n",
    "The raw dataset of U.S. census tracts for 2020 is split into 56 files, each representing a single state or state-equivalent (i.e., the District of Columbia, American Samoa, Guam, Northern Mariana Islands, Puerto Rico, and the U.S. Virgin Islands). There are 85,528 records total (84,414 in the 50 U.S. states and 1,114 in the six U.S. territories). In addition to the geometry column, relevant columns include the FIPS Codes for states (`STATEFP`), counties (`COUNTYFP`), and tracts (`TRACTCE`); the unique geography identifier, created from FIPS codes (`GEOID`); and the full geography name (`NAMELSAD`). The dataset has a coordinate reference system (CRS) of EPSG:4269, which is standard for federal agencies.\n",
    "\n",
    "It is necessary to examine 2010 U.S. census tracts for some of the island territories that have not been evaluated for low-income community status at the time of writing (October 9th, 2023): American Samoa, Guam, Northern Mariana Islands, and the U.S. Vigin Islands. This dataset contains 132 records and also has a CRS of EPSG:4269. In addition to the geometry column, relevant columns include the FIPS Codes for states (`STATEFP10`), counties (`COUNTYFP10`), and tracts (`TRACTCE10`); the unique geography identifier, created from FIPS codes (`GEOID10`); and the full geography name (`NAMELSAD10`)"
   ]
  },
  {
   "cell_type": "markdown",
   "metadata": {},
   "source": [
    "### Exploration"
   ]
  },
  {
   "cell_type": "code",
   "execution_count": 1,
   "metadata": {},
   "outputs": [],
   "source": [
    "import glob\n",
    "import geopandas as gpd"
   ]
  },
  {
   "cell_type": "markdown",
   "metadata": {},
   "source": [
    "Examine tracts from the 2020 U.S. census. "
   ]
  },
  {
   "cell_type": "code",
   "execution_count": 2,
   "metadata": {},
   "outputs": [
    {
     "name": "stdout",
     "output_type": "stream",
     "text": [
      "56\n"
     ]
    }
   ],
   "source": [
    "fpaths = glob.glob(\"../data/raw/tl_2020_**_tract.zip\")\n",
    "print(len(fpaths))"
   ]
  },
  {
   "cell_type": "code",
   "execution_count": 3,
   "metadata": {},
   "outputs": [
    {
     "name": "stdout",
     "output_type": "stream",
     "text": [
      "<class 'geopandas.geodataframe.GeoDataFrame'>\n",
      "RangeIndex: 2672 entries, 0 to 2671\n",
      "Data columns (total 13 columns):\n",
      " #   Column    Non-Null Count  Dtype   \n",
      "---  ------    --------------  -----   \n",
      " 0   STATEFP   2672 non-null   object  \n",
      " 1   COUNTYFP  2672 non-null   object  \n",
      " 2   TRACTCE   2672 non-null   object  \n",
      " 3   GEOID     2672 non-null   object  \n",
      " 4   NAME      2672 non-null   object  \n",
      " 5   NAMELSAD  2672 non-null   object  \n",
      " 6   MTFCC     2672 non-null   object  \n",
      " 7   FUNCSTAT  2672 non-null   object  \n",
      " 8   ALAND     2672 non-null   int64   \n",
      " 9   AWATER    2672 non-null   int64   \n",
      " 10  INTPTLAT  2672 non-null   object  \n",
      " 11  INTPTLON  2672 non-null   object  \n",
      " 12  geometry  2672 non-null   geometry\n",
      "dtypes: geometry(1), int64(2), object(10)\n",
      "memory usage: 271.5+ KB\n"
     ]
    }
   ],
   "source": [
    "gdf = gpd.read_file(fpaths[0])\n",
    "gdf.info()"
   ]
  },
  {
   "cell_type": "code",
   "execution_count": 4,
   "metadata": {},
   "outputs": [
    {
     "data": {
      "text/html": [
       "<div>\n",
       "<style scoped>\n",
       "    .dataframe tbody tr th:only-of-type {\n",
       "        vertical-align: middle;\n",
       "    }\n",
       "\n",
       "    .dataframe tbody tr th {\n",
       "        vertical-align: top;\n",
       "    }\n",
       "\n",
       "    .dataframe thead th {\n",
       "        text-align: right;\n",
       "    }\n",
       "</style>\n",
       "<table border=\"1\" class=\"dataframe\">\n",
       "  <thead>\n",
       "    <tr style=\"text-align: right;\">\n",
       "      <th></th>\n",
       "      <th>STATEFP</th>\n",
       "      <th>COUNTYFP</th>\n",
       "      <th>TRACTCE</th>\n",
       "      <th>GEOID</th>\n",
       "      <th>NAME</th>\n",
       "      <th>NAMELSAD</th>\n",
       "      <th>MTFCC</th>\n",
       "      <th>FUNCSTAT</th>\n",
       "      <th>ALAND</th>\n",
       "      <th>AWATER</th>\n",
       "      <th>INTPTLAT</th>\n",
       "      <th>INTPTLON</th>\n",
       "      <th>geometry</th>\n",
       "    </tr>\n",
       "  </thead>\n",
       "  <tbody>\n",
       "    <tr>\n",
       "      <th>0</th>\n",
       "      <td>37</td>\n",
       "      <td>141</td>\n",
       "      <td>920300</td>\n",
       "      <td>37141920300</td>\n",
       "      <td>9203</td>\n",
       "      <td>Census Tract 9203</td>\n",
       "      <td>G5020</td>\n",
       "      <td>S</td>\n",
       "      <td>236115472</td>\n",
       "      <td>605423</td>\n",
       "      <td>+34.6713171</td>\n",
       "      <td>-078.0020072</td>\n",
       "      <td>POLYGON ((-78.15648 34.67909, -78.15458 34.680...</td>\n",
       "    </tr>\n",
       "    <tr>\n",
       "      <th>1</th>\n",
       "      <td>37</td>\n",
       "      <td>141</td>\n",
       "      <td>990100</td>\n",
       "      <td>37141990100</td>\n",
       "      <td>9901</td>\n",
       "      <td>Census Tract 9901</td>\n",
       "      <td>G5020</td>\n",
       "      <td>S</td>\n",
       "      <td>0</td>\n",
       "      <td>133298393</td>\n",
       "      <td>+34.3492469</td>\n",
       "      <td>-077.6031267</td>\n",
       "      <td>POLYGON ((-77.71433 34.29117, -77.71406 34.291...</td>\n",
       "    </tr>\n",
       "  </tbody>\n",
       "</table>\n",
       "</div>"
      ],
      "text/plain": [
       "  STATEFP COUNTYFP TRACTCE        GEOID  NAME           NAMELSAD  MTFCC  \\\n",
       "0      37      141  920300  37141920300  9203  Census Tract 9203  G5020   \n",
       "1      37      141  990100  37141990100  9901  Census Tract 9901  G5020   \n",
       "\n",
       "  FUNCSTAT      ALAND     AWATER     INTPTLAT      INTPTLON  \\\n",
       "0        S  236115472     605423  +34.6713171  -078.0020072   \n",
       "1        S          0  133298393  +34.3492469  -077.6031267   \n",
       "\n",
       "                                            geometry  \n",
       "0  POLYGON ((-78.15648 34.67909, -78.15458 34.680...  \n",
       "1  POLYGON ((-77.71433 34.29117, -77.71406 34.291...  "
      ]
     },
     "execution_count": 4,
     "metadata": {},
     "output_type": "execute_result"
    }
   ],
   "source": [
    "gdf.head(2)"
   ]
  },
  {
   "cell_type": "markdown",
   "metadata": {},
   "source": []
  },
  {
   "cell_type": "code",
   "execution_count": 5,
   "metadata": {},
   "outputs": [
    {
     "data": {
      "text/plain": [
       "<Geographic 2D CRS: EPSG:4269>\n",
       "Name: NAD83\n",
       "Axis Info [ellipsoidal]:\n",
       "- Lat[north]: Geodetic latitude (degree)\n",
       "- Lon[east]: Geodetic longitude (degree)\n",
       "Area of Use:\n",
       "- name: North America - onshore and offshore: Canada - Alberta; British Columbia; Manitoba; New Brunswick; Newfoundland and Labrador; Northwest Territories; Nova Scotia; Nunavut; Ontario; Prince Edward Island; Quebec; Saskatchewan; Yukon. Puerto Rico. United States (USA) - Alabama; Alaska; Arizona; Arkansas; California; Colorado; Connecticut; Delaware; Florida; Georgia; Hawaii; Idaho; Illinois; Indiana; Iowa; Kansas; Kentucky; Louisiana; Maine; Maryland; Massachusetts; Michigan; Minnesota; Mississippi; Missouri; Montana; Nebraska; Nevada; New Hampshire; New Jersey; New Mexico; New York; North Carolina; North Dakota; Ohio; Oklahoma; Oregon; Pennsylvania; Rhode Island; South Carolina; South Dakota; Tennessee; Texas; Utah; Vermont; Virginia; Washington; West Virginia; Wisconsin; Wyoming. US Virgin Islands. British Virgin Islands.\n",
       "- bounds: (167.65, 14.92, -40.73, 86.45)\n",
       "Datum: North American Datum 1983\n",
       "- Ellipsoid: GRS 1980\n",
       "- Prime Meridian: Greenwich"
      ]
     },
     "execution_count": 5,
     "metadata": {},
     "output_type": "execute_result"
    }
   ],
   "source": [
    "gdf.crs"
   ]
  },
  {
   "cell_type": "code",
   "execution_count": 6,
   "metadata": {},
   "outputs": [],
   "source": [
    "num_tracts_states = 0\n",
    "num_tracts_territories = 0\n",
    "crs_name = []\n",
    "\n",
    "for fpath in fpaths:\n",
    "    # Load file\n",
    "    gdf = gpd.read_file(fpath)\n",
    "\n",
    "    # Record number of tracts\n",
    "    is_terr = fpath.split(\"/\")[-1].split(\"_\")[2] >= '60'\n",
    "    if is_terr:\n",
    "        num_tracts_territories += len(gdf)\n",
    "    else:\n",
    "        num_tracts_states += len(gdf)\n",
    "\n",
    "    # Record CRS\n",
    "    crs_name.append(gdf.crs.name)"
   ]
  },
  {
   "cell_type": "code",
   "execution_count": 7,
   "metadata": {},
   "outputs": [
    {
     "name": "stdout",
     "output_type": "stream",
     "text": [
      "There are 84,414 tract(s) in the 50 U.S. states and 1,114 tract(s) in the U.S. territories, (85,528 total).\n"
     ]
    }
   ],
   "source": [
    "print(f\"There are {num_tracts_states:,} tract(s) in the 50 U.S. states \"\n",
    "      f\"and {num_tracts_territories:,} tract(s) in the U.S. territories, \"\n",
    "      f\"({num_tracts_states + num_tracts_territories:,} total).\")"
   ]
  },
  {
   "cell_type": "code",
   "execution_count": 8,
   "metadata": {},
   "outputs": [
    {
     "data": {
      "text/plain": [
       "False"
      ]
     },
     "execution_count": 8,
     "metadata": {},
     "output_type": "execute_result"
    }
   ],
   "source": [
    "any([name != \"NAD83\" for name in crs_name])"
   ]
  },
  {
   "cell_type": "markdown",
   "metadata": {},
   "source": [
    "Examine tracts from the 2010 U.S. census."
   ]
  },
  {
   "cell_type": "code",
   "execution_count": 9,
   "metadata": {},
   "outputs": [
    {
     "name": "stdout",
     "output_type": "stream",
     "text": [
      "4\n"
     ]
    }
   ],
   "source": [
    "fpaths = glob.glob(\"../data/raw/tl_2010_**_tract10.zip\")\n",
    "print(len(fpaths))"
   ]
  },
  {
   "cell_type": "code",
   "execution_count": 10,
   "metadata": {},
   "outputs": [
    {
     "name": "stdout",
     "output_type": "stream",
     "text": [
      "<class 'geopandas.geodataframe.GeoDataFrame'>\n",
      "RangeIndex: 57 entries, 0 to 56\n",
      "Data columns (total 13 columns):\n",
      " #   Column      Non-Null Count  Dtype   \n",
      "---  ------      --------------  -----   \n",
      " 0   STATEFP10   57 non-null     object  \n",
      " 1   COUNTYFP10  57 non-null     object  \n",
      " 2   TRACTCE10   57 non-null     object  \n",
      " 3   GEOID10     57 non-null     object  \n",
      " 4   NAME10      57 non-null     object  \n",
      " 5   NAMELSAD10  57 non-null     object  \n",
      " 6   MTFCC10     57 non-null     object  \n",
      " 7   FUNCSTAT10  57 non-null     object  \n",
      " 8   ALAND10     57 non-null     int64   \n",
      " 9   AWATER10    57 non-null     int64   \n",
      " 10  INTPTLAT10  57 non-null     object  \n",
      " 11  INTPTLON10  57 non-null     object  \n",
      " 12  geometry    57 non-null     geometry\n",
      "dtypes: geometry(1), int64(2), object(10)\n",
      "memory usage: 5.9+ KB\n"
     ]
    }
   ],
   "source": [
    "gdf = gpd.read_file(fpaths[0])\n",
    "gdf.info()"
   ]
  },
  {
   "cell_type": "code",
   "execution_count": 11,
   "metadata": {},
   "outputs": [
    {
     "data": {
      "text/html": [
       "<div>\n",
       "<style scoped>\n",
       "    .dataframe tbody tr th:only-of-type {\n",
       "        vertical-align: middle;\n",
       "    }\n",
       "\n",
       "    .dataframe tbody tr th {\n",
       "        vertical-align: top;\n",
       "    }\n",
       "\n",
       "    .dataframe thead th {\n",
       "        text-align: right;\n",
       "    }\n",
       "</style>\n",
       "<table border=\"1\" class=\"dataframe\">\n",
       "  <thead>\n",
       "    <tr style=\"text-align: right;\">\n",
       "      <th></th>\n",
       "      <th>STATEFP10</th>\n",
       "      <th>COUNTYFP10</th>\n",
       "      <th>TRACTCE10</th>\n",
       "      <th>GEOID10</th>\n",
       "      <th>NAME10</th>\n",
       "      <th>NAMELSAD10</th>\n",
       "      <th>MTFCC10</th>\n",
       "      <th>FUNCSTAT10</th>\n",
       "      <th>ALAND10</th>\n",
       "      <th>AWATER10</th>\n",
       "      <th>INTPTLAT10</th>\n",
       "      <th>INTPTLON10</th>\n",
       "      <th>geometry</th>\n",
       "    </tr>\n",
       "  </thead>\n",
       "  <tbody>\n",
       "    <tr>\n",
       "      <th>0</th>\n",
       "      <td>66</td>\n",
       "      <td>010</td>\n",
       "      <td>950401</td>\n",
       "      <td>66010950401</td>\n",
       "      <td>9504.01</td>\n",
       "      <td>Census Tract 9504.01</td>\n",
       "      <td>G5020</td>\n",
       "      <td>S</td>\n",
       "      <td>3012167</td>\n",
       "      <td>0</td>\n",
       "      <td>+13.5634095</td>\n",
       "      <td>+144.8537892</td>\n",
       "      <td>POLYGON ((144.85748 13.56992, 144.85768 13.569...</td>\n",
       "    </tr>\n",
       "    <tr>\n",
       "      <th>1</th>\n",
       "      <td>66</td>\n",
       "      <td>010</td>\n",
       "      <td>951901</td>\n",
       "      <td>66010951901</td>\n",
       "      <td>9519.01</td>\n",
       "      <td>Census Tract 9519.01</td>\n",
       "      <td>G5020</td>\n",
       "      <td>S</td>\n",
       "      <td>1135163</td>\n",
       "      <td>0</td>\n",
       "      <td>+13.5124768</td>\n",
       "      <td>+144.8141771</td>\n",
       "      <td>POLYGON ((144.81719 13.50794, 144.81685 13.507...</td>\n",
       "    </tr>\n",
       "  </tbody>\n",
       "</table>\n",
       "</div>"
      ],
      "text/plain": [
       "  STATEFP10 COUNTYFP10 TRACTCE10      GEOID10   NAME10            NAMELSAD10  \\\n",
       "0        66        010    950401  66010950401  9504.01  Census Tract 9504.01   \n",
       "1        66        010    951901  66010951901  9519.01  Census Tract 9519.01   \n",
       "\n",
       "  MTFCC10 FUNCSTAT10  ALAND10  AWATER10   INTPTLAT10    INTPTLON10  \\\n",
       "0   G5020          S  3012167         0  +13.5634095  +144.8537892   \n",
       "1   G5020          S  1135163         0  +13.5124768  +144.8141771   \n",
       "\n",
       "                                            geometry  \n",
       "0  POLYGON ((144.85748 13.56992, 144.85768 13.569...  \n",
       "1  POLYGON ((144.81719 13.50794, 144.81685 13.507...  "
      ]
     },
     "execution_count": 11,
     "metadata": {},
     "output_type": "execute_result"
    }
   ],
   "source": [
    "gdf.head(2)"
   ]
  },
  {
   "cell_type": "code",
   "execution_count": 12,
   "metadata": {},
   "outputs": [],
   "source": [
    "num_tracts_territories = 0\n",
    "crs_name = []\n",
    "\n",
    "for fpath in fpaths:\n",
    "    gdf = gpd.read_file(fpath)\n",
    "    num_tracts_territories += len(gdf)\n",
    "    crs_name.append(gdf.crs.name)"
   ]
  },
  {
   "cell_type": "code",
   "execution_count": 13,
   "metadata": {},
   "outputs": [
    {
     "name": "stdout",
     "output_type": "stream",
     "text": [
      "There are 132 census tracts (2010) for the remaining U.S. territories.\n"
     ]
    }
   ],
   "source": [
    "print(f\"There are {num_tracts_territories:,} census tracts (2010) \"\n",
    "      \"for the remaining U.S. territories.\")"
   ]
  },
  {
   "cell_type": "code",
   "execution_count": 14,
   "metadata": {},
   "outputs": [
    {
     "data": {
      "text/plain": [
       "False"
      ]
     },
     "execution_count": 14,
     "metadata": {},
     "output_type": "execute_result"
    }
   ],
   "source": [
    "any([name != \"NAD83\" for name in crs_name])"
   ]
  }
 ],
 "metadata": {
  "kernelspec": {
   "display_name": "env",
   "language": "python",
   "name": "python3"
  },
  "language_info": {
   "codemirror_mode": {
    "name": "ipython",
    "version": 3
   },
   "file_extension": ".py",
   "mimetype": "text/x-python",
   "name": "python",
   "nbconvert_exporter": "python",
   "pygments_lexer": "ipython3",
   "version": "3.8.10"
  }
 },
 "nbformat": 4,
 "nbformat_minor": 2
}
