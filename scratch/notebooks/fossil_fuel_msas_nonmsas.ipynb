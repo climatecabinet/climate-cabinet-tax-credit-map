{
 "cells": [
  {
   "cell_type": "markdown",
   "metadata": {},
   "source": [
    "# Fossil Fuel MSAs and Non-MSAs\n",
    "\n",
    "Exploratory data analysis of the metropolitian statistical areas (MSAs) and non-metropolitan statistical areas (non-MSAs) that have been affected by coal mine closure or generating unit retirement and are therefore eligible for renewable energy tax credits under the Inflation Reduction Act (IRA) of 2022."
   ]
  },
  {
   "cell_type": "markdown",
   "metadata": {},
   "source": [
    "### Summary\n",
    "\n",
    "The dataset contains 1,505 records, each representing a county that comprises part of an MSA or a non-MSA. (For more background on these different geography types, please consult the FAQ #14 [here](https://energycommunities.gov/energy-community-tax-credit-bonus-faqs/).) Records span the 50 U.S. States, the District of Columbia, and the U.S. territories. MSAs and non-MSAs have a label indicating whether they qualify as an energy community. 845 counties are part of an energy community vis-à-vis membership in one of the 101 MSAs or 78 non-MSAs.\n",
    "\n",
    "Relevant columns in the dataset (apart from the geometry) include the FIPS Codes for the state (`fipstate_2`) and county (`fipscty_20`); the MSA/non-MSA name (`MSA_area_n`); and the energy community indicator/flag (`EC_qual_st`). The dataset has a coordinate reference system (CRS) of EPSG:4269, which is standard for federal agencies."
   ]
  },
  {
   "cell_type": "markdown",
   "metadata": {},
   "source": [
    "### Exploration"
   ]
  },
  {
   "cell_type": "code",
   "execution_count": 1,
   "metadata": {},
   "outputs": [],
   "source": [
    "import geopandas as gpd\n",
    "import pandas as pd"
   ]
  },
  {
   "cell_type": "code",
   "execution_count": 2,
   "metadata": {},
   "outputs": [],
   "source": [
    "pd.set_option(\"display.max_columns\", None)"
   ]
  },
  {
   "cell_type": "code",
   "execution_count": 3,
   "metadata": {},
   "outputs": [
    {
     "name": "stdout",
     "output_type": "stream",
     "text": [
      "<class 'geopandas.geodataframe.GeoDataFrame'>\n",
      "RangeIndex: 1505 entries, 0 to 1504\n",
      "Data columns (total 23 columns):\n",
      " #   Column      Non-Null Count  Dtype   \n",
      "---  ------      --------------  -----   \n",
      " 0   ObjectID    1505 non-null   int64   \n",
      " 1   AFFGEOID_C  1505 non-null   object  \n",
      " 2   fipstate_2  1505 non-null   object  \n",
      " 3   fipscty_20  1505 non-null   object  \n",
      " 4   geoid_cty_  1505 non-null   object  \n",
      " 5   county_nam  1505 non-null   object  \n",
      " 6   state_name  1505 non-null   object  \n",
      " 7   MSA_area_I  1505 non-null   float64 \n",
      " 8   MSA_area_n  1505 non-null   object  \n",
      " 9   ffe_ind_qu  1505 non-null   float64 \n",
      " 10  ec_ind_qua  1505 non-null   float64 \n",
      " 11  msa_qual    1505 non-null   object  \n",
      " 12  FEE_qual_s  1505 non-null   object  \n",
      " 13  EC_qual_st  1505 non-null   object  \n",
      " 14  Label_FEE   660 non-null    object  \n",
      " 15  Label_EC    1505 non-null   object  \n",
      " 16  MSA_NMSA_L  1505 non-null   object  \n",
      " 17  date_last_  1505 non-null   object  \n",
      " 18  dataset_ve  1505 non-null   float64 \n",
      " 19  date_recor  1505 non-null   object  \n",
      " 20  Shape_Leng  1505 non-null   float64 \n",
      " 21  Shape_Area  1505 non-null   float64 \n",
      " 22  geometry    1505 non-null   geometry\n",
      "dtypes: float64(6), geometry(1), int64(1), object(15)\n",
      "memory usage: 270.6+ KB\n"
     ]
    }
   ],
   "source": [
    "data_dir = \"../data/raw/\"\n",
    "file = \"msa_nmsa_fee_ec_status_2023v2.zip\"\n",
    "folder = \"MSA_NMSA_FEE_EC_Status_2023v2/MSA_NMSA_FEE_EC_Status_SHP_2023v2\"\n",
    "gdf = gpd.read_file(f\"{data_dir}{file}!{folder}\")\n",
    "gdf.info()"
   ]
  },
  {
   "cell_type": "code",
   "execution_count": 4,
   "metadata": {},
   "outputs": [
    {
     "data": {
      "text/html": [
       "<div>\n",
       "<style scoped>\n",
       "    .dataframe tbody tr th:only-of-type {\n",
       "        vertical-align: middle;\n",
       "    }\n",
       "\n",
       "    .dataframe tbody tr th {\n",
       "        vertical-align: top;\n",
       "    }\n",
       "\n",
       "    .dataframe thead th {\n",
       "        text-align: right;\n",
       "    }\n",
       "</style>\n",
       "<table border=\"1\" class=\"dataframe\">\n",
       "  <thead>\n",
       "    <tr style=\"text-align: right;\">\n",
       "      <th></th>\n",
       "      <th>ObjectID</th>\n",
       "      <th>AFFGEOID_C</th>\n",
       "      <th>fipstate_2</th>\n",
       "      <th>fipscty_20</th>\n",
       "      <th>geoid_cty_</th>\n",
       "      <th>county_nam</th>\n",
       "      <th>state_name</th>\n",
       "      <th>MSA_area_I</th>\n",
       "      <th>MSA_area_n</th>\n",
       "      <th>ffe_ind_qu</th>\n",
       "      <th>ec_ind_qua</th>\n",
       "      <th>msa_qual</th>\n",
       "      <th>FEE_qual_s</th>\n",
       "      <th>EC_qual_st</th>\n",
       "      <th>Label_FEE</th>\n",
       "      <th>Label_EC</th>\n",
       "      <th>MSA_NMSA_L</th>\n",
       "      <th>date_last_</th>\n",
       "      <th>dataset_ve</th>\n",
       "      <th>date_recor</th>\n",
       "      <th>Shape_Leng</th>\n",
       "      <th>Shape_Area</th>\n",
       "      <th>geometry</th>\n",
       "    </tr>\n",
       "  </thead>\n",
       "  <tbody>\n",
       "    <tr>\n",
       "      <th>0</th>\n",
       "      <td>1</td>\n",
       "      <td>0500000US01007</td>\n",
       "      <td>01</td>\n",
       "      <td>007</td>\n",
       "      <td>01007</td>\n",
       "      <td>Bibb County</td>\n",
       "      <td>Alabama</td>\n",
       "      <td>13820.0</td>\n",
       "      <td>Birmingham-Hoover, AL</td>\n",
       "      <td>1.0</td>\n",
       "      <td>0.0</td>\n",
       "      <td>MSA</td>\n",
       "      <td>Yes</td>\n",
       "      <td>No</td>\n",
       "      <td>only meets the FFE threshold (not an energy co...</td>\n",
       "      <td>is not an energy community, as it does not mee...</td>\n",
       "      <td>Birmingham-Hoover, AL metropolitan statistical...</td>\n",
       "      <td>2023-05-30</td>\n",
       "      <td>2023.2</td>\n",
       "      <td>2023-04-03</td>\n",
       "      <td>1.887520</td>\n",
       "      <td>0.156472</td>\n",
       "      <td>POLYGON ((-87.31226 33.08622, -87.31218 33.087...</td>\n",
       "    </tr>\n",
       "    <tr>\n",
       "      <th>1</th>\n",
       "      <td>2</td>\n",
       "      <td>0500000US01009</td>\n",
       "      <td>01</td>\n",
       "      <td>009</td>\n",
       "      <td>01009</td>\n",
       "      <td>Blount County</td>\n",
       "      <td>Alabama</td>\n",
       "      <td>13820.0</td>\n",
       "      <td>Birmingham-Hoover, AL</td>\n",
       "      <td>1.0</td>\n",
       "      <td>0.0</td>\n",
       "      <td>MSA</td>\n",
       "      <td>Yes</td>\n",
       "      <td>No</td>\n",
       "      <td>only meets the FFE threshold (not an energy co...</td>\n",
       "      <td>is not an energy community, as it does not mee...</td>\n",
       "      <td>Birmingham-Hoover, AL metropolitan statistical...</td>\n",
       "      <td>2023-05-30</td>\n",
       "      <td>2023.2</td>\n",
       "      <td>2023-04-03</td>\n",
       "      <td>2.423551</td>\n",
       "      <td>0.164405</td>\n",
       "      <td>POLYGON ((-86.74919 33.99760, -86.74902 33.997...</td>\n",
       "    </tr>\n",
       "  </tbody>\n",
       "</table>\n",
       "</div>"
      ],
      "text/plain": [
       "   ObjectID      AFFGEOID_C fipstate_2 fipscty_20 geoid_cty_     county_nam  \\\n",
       "0         1  0500000US01007         01        007      01007    Bibb County   \n",
       "1         2  0500000US01009         01        009      01009  Blount County   \n",
       "\n",
       "  state_name  MSA_area_I             MSA_area_n  ffe_ind_qu  ec_ind_qua  \\\n",
       "0    Alabama     13820.0  Birmingham-Hoover, AL         1.0         0.0   \n",
       "1    Alabama     13820.0  Birmingham-Hoover, AL         1.0         0.0   \n",
       "\n",
       "  msa_qual FEE_qual_s EC_qual_st  \\\n",
       "0      MSA        Yes         No   \n",
       "1      MSA        Yes         No   \n",
       "\n",
       "                                           Label_FEE  \\\n",
       "0  only meets the FFE threshold (not an energy co...   \n",
       "1  only meets the FFE threshold (not an energy co...   \n",
       "\n",
       "                                            Label_EC  \\\n",
       "0  is not an energy community, as it does not mee...   \n",
       "1  is not an energy community, as it does not mee...   \n",
       "\n",
       "                                          MSA_NMSA_L  date_last_  dataset_ve  \\\n",
       "0  Birmingham-Hoover, AL metropolitan statistical...  2023-05-30      2023.2   \n",
       "1  Birmingham-Hoover, AL metropolitan statistical...  2023-05-30      2023.2   \n",
       "\n",
       "   date_recor  Shape_Leng  Shape_Area  \\\n",
       "0  2023-04-03    1.887520    0.156472   \n",
       "1  2023-04-03    2.423551    0.164405   \n",
       "\n",
       "                                            geometry  \n",
       "0  POLYGON ((-87.31226 33.08622, -87.31218 33.087...  \n",
       "1  POLYGON ((-86.74919 33.99760, -86.74902 33.997...  "
      ]
     },
     "execution_count": 4,
     "metadata": {},
     "output_type": "execute_result"
    }
   ],
   "source": [
    "gdf.head(2)"
   ]
  },
  {
   "cell_type": "code",
   "execution_count": 5,
   "metadata": {},
   "outputs": [
    {
     "data": {
      "text/plain": [
       "<Geographic 2D CRS: EPSG:4269>\n",
       "Name: NAD83\n",
       "Axis Info [ellipsoidal]:\n",
       "- Lat[north]: Geodetic latitude (degree)\n",
       "- Lon[east]: Geodetic longitude (degree)\n",
       "Area of Use:\n",
       "- name: North America - onshore and offshore: Canada - Alberta; British Columbia; Manitoba; New Brunswick; Newfoundland and Labrador; Northwest Territories; Nova Scotia; Nunavut; Ontario; Prince Edward Island; Quebec; Saskatchewan; Yukon. Puerto Rico. United States (USA) - Alabama; Alaska; Arizona; Arkansas; California; Colorado; Connecticut; Delaware; Florida; Georgia; Hawaii; Idaho; Illinois; Indiana; Iowa; Kansas; Kentucky; Louisiana; Maine; Maryland; Massachusetts; Michigan; Minnesota; Mississippi; Missouri; Montana; Nebraska; Nevada; New Hampshire; New Jersey; New Mexico; New York; North Carolina; North Dakota; Ohio; Oklahoma; Oregon; Pennsylvania; Rhode Island; South Carolina; South Dakota; Tennessee; Texas; Utah; Vermont; Virginia; Washington; West Virginia; Wisconsin; Wyoming. US Virgin Islands. British Virgin Islands.\n",
       "- bounds: (167.65, 14.92, -40.73, 86.45)\n",
       "Datum: North American Datum 1983\n",
       "- Ellipsoid: GRS 1980\n",
       "- Prime Meridian: Greenwich"
      ]
     },
     "execution_count": 5,
     "metadata": {},
     "output_type": "execute_result"
    }
   ],
   "source": [
    "gdf.crs"
   ]
  },
  {
   "cell_type": "code",
   "execution_count": 6,
   "metadata": {},
   "outputs": [
    {
     "data": {
      "text/plain": [
       "6"
      ]
     },
     "execution_count": 6,
     "metadata": {},
     "output_type": "execute_result"
    }
   ],
   "source": [
    "len(gdf.query(\"fipstate_2 >= '60'\"))"
   ]
  },
  {
   "cell_type": "code",
   "execution_count": 7,
   "metadata": {},
   "outputs": [
    {
     "data": {
      "text/plain": [
       "1498                            Guayama, PR\n",
       "1499                            Guayama, PR\n",
       "1500                            Guayama, PR\n",
       "1501    Virgin Islands nonmetropolitan area\n",
       "1502    Virgin Islands nonmetropolitan area\n",
       "1503    Virgin Islands nonmetropolitan area\n",
       "Name: MSA_area_n, dtype: object"
      ]
     },
     "execution_count": 7,
     "metadata": {},
     "output_type": "execute_result"
    }
   ],
   "source": [
    "gdf.query(\"fipstate_2 >= '60'\")[\"MSA_area_n\"]"
   ]
  },
  {
   "cell_type": "code",
   "execution_count": 8,
   "metadata": {},
   "outputs": [
    {
     "data": {
      "text/plain": [
       "845"
      ]
     },
     "execution_count": 8,
     "metadata": {},
     "output_type": "execute_result"
    }
   ],
   "source": [
    "len(gdf.query(\"EC_qual_st == 'Yes'\"))"
   ]
  },
  {
   "cell_type": "code",
   "execution_count": 9,
   "metadata": {},
   "outputs": [
    {
     "data": {
      "text/plain": [
       "179"
      ]
     },
     "execution_count": 9,
     "metadata": {},
     "output_type": "execute_result"
    }
   ],
   "source": [
    "len(gdf[\"MSA_NMSA_L\"].unique())"
   ]
  },
  {
   "cell_type": "code",
   "execution_count": 10,
   "metadata": {},
   "outputs": [
    {
     "data": {
      "text/plain": [
       "179"
      ]
     },
     "execution_count": 10,
     "metadata": {},
     "output_type": "execute_result"
    }
   ],
   "source": [
    "len(gdf[\"MSA_area_n\"].unique())"
   ]
  },
  {
   "cell_type": "code",
   "execution_count": 11,
   "metadata": {},
   "outputs": [
    {
     "data": {
      "text/html": [
       "<div>\n",
       "<style scoped>\n",
       "    .dataframe tbody tr th:only-of-type {\n",
       "        vertical-align: middle;\n",
       "    }\n",
       "\n",
       "    .dataframe tbody tr th {\n",
       "        vertical-align: top;\n",
       "    }\n",
       "\n",
       "    .dataframe thead th {\n",
       "        text-align: right;\n",
       "    }\n",
       "</style>\n",
       "<table border=\"1\" class=\"dataframe\">\n",
       "  <thead>\n",
       "    <tr style=\"text-align: right;\">\n",
       "      <th></th>\n",
       "      <th>MSA_area_n</th>\n",
       "    </tr>\n",
       "    <tr>\n",
       "      <th>EC_qual_st</th>\n",
       "      <th></th>\n",
       "    </tr>\n",
       "  </thead>\n",
       "  <tbody>\n",
       "    <tr>\n",
       "      <th>No</th>\n",
       "      <td>78</td>\n",
       "    </tr>\n",
       "    <tr>\n",
       "      <th>Yes</th>\n",
       "      <td>101</td>\n",
       "    </tr>\n",
       "  </tbody>\n",
       "</table>\n",
       "</div>"
      ],
      "text/plain": [
       "            MSA_area_n\n",
       "EC_qual_st            \n",
       "No                  78\n",
       "Yes                101"
      ]
     },
     "execution_count": 11,
     "metadata": {},
     "output_type": "execute_result"
    }
   ],
   "source": [
    "(gdf[[\"MSA_area_n\", \"EC_qual_st\"]]\n",
    "    .groupby([\"EC_qual_st\", \"MSA_area_n\"])\n",
    "    .count()\n",
    "    .reset_index()\n",
    "    .groupby(\"EC_qual_st\")\n",
    "    .count())"
   ]
  }
 ],
 "metadata": {
  "kernelspec": {
   "display_name": "env",
   "language": "python",
   "name": "python3"
  },
  "language_info": {
   "codemirror_mode": {
    "name": "ipython",
    "version": 3
   },
   "file_extension": ".py",
   "mimetype": "text/x-python",
   "name": "python",
   "nbconvert_exporter": "python",
   "pygments_lexer": "ipython3",
   "version": "3.8.10"
  }
 },
 "nbformat": 4,
 "nbformat_minor": 2
}
